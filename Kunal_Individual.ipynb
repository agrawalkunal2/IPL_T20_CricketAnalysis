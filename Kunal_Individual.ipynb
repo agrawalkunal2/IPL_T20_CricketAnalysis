{
  "nbformat": 4,
  "nbformat_minor": 0,
  "metadata": {
    "kernelspec": {
      "display_name": "Python 3",
      "language": "python",
      "name": "python3"
    },
    "language_info": {
      "codemirror_mode": {
        "name": "ipython",
        "version": 3
      },
      "file_extension": ".py",
      "mimetype": "text/x-python",
      "name": "python",
      "nbconvert_exporter": "python",
      "pygments_lexer": "ipython3",
      "version": "3.6.6"
    },
    "colab": {
      "name": "Kunal Individual.ipynb",
      "provenance": [],
      "collapsed_sections": [],
      "include_colab_link": true
    }
  },
  "cells": [
    {
      "cell_type": "markdown",
      "metadata": {
        "id": "view-in-github",
        "colab_type": "text"
      },
      "source": [
        "<a href=\"https://colab.research.google.com/github/agrawalkunal2/IPL_T20_CricketAnalysis/blob/main/Kunal_Individual.ipynb\" target=\"_parent\"><img src=\"https://colab.research.google.com/assets/colab-badge.svg\" alt=\"Open In Colab\"/></a>"
      ]
    },
    {
      "cell_type": "markdown",
      "metadata": {
        "id": "Y06xIdG26kRF"
      },
      "source": [
        "## <b> Indian Premier League(IPL) is a professional Twenty20 cricket league in India contested during March or April and May of every year by eight teams representing eight different cities in India. The league was founded by the Board of Control for Cricket in India(BCCI) in 2008. </b>\n",
        "\n",
        "## <b> Explore and analyze the data to discover results and statistics for different teams playing in IPL. </b>"
      ]
    },
    {
      "cell_type": "markdown",
      "metadata": {
        "id": "mkoZPP01DUfC"
      },
      "source": [
        "**Summary**\n",
        "\n",
        "\n",
        "\n",
        "\n",
        "Initially I started with looking at each database available to us for the IPL project. I went through various columns available within each of the databases tried to make sense of what all data is available to us. I took ‘deliveries.csv’ and understood that it contained details of each ball bowled across various seasons of IPL. I quickly understood that we can found some common statistics pertaining to batting as well as bowling. I found out some of the statistics such as most 4s and 6s hit by batsman. I also tried looking into teams which scored the greatest number of 200+ runs and found out that RCBs have the greatest number of 200+ scores. At same time I wanted to see if the team scoring the greatest number of 200+ runs also has high number of wins. However, Mumbai Indians with highest win percentage comes at 4th position in the number of 200+ scores. In correlation matrix, I observed the greatest number of runs doesn’t necessarily convert into number of wins. Also, I tried to find out whether best performing teams maintain high powerplay scores. \n",
        "I tried to draw statistics regarding bowling, however, I observed that many bowlers just bowled for smaller number of overs to provide any meaningful statistics. Hence, to make meaningful conclusions, I restricted to only those bowlers who have done at least 120 deliveries. At the end, I also tried to make certain tables which can help in making real-time decisions such as batsman having issues in facing any type of delivery style in his IPL career. \n"
      ]
    },
    {
      "cell_type": "code",
      "metadata": {
        "id": "dByMsuzT8Tnw"
      },
      "source": [
        "import numpy as np\n",
        "import pandas as pd\n",
        "import seaborn as sns\n",
        "import matplotlib.pyplot as plt\n",
        "%matplotlib inline"
      ],
      "execution_count": null,
      "outputs": []
    },
    {
      "cell_type": "code",
      "metadata": {
        "colab": {
          "base_uri": "https://localhost:8080/"
        },
        "id": "hMXCK31WzlDp",
        "outputId": "30dac193-8557-4c7e-82a2-a671c1342051"
      },
      "source": [
        "from google.colab import drive\n",
        "drive.mount('/content/drive')"
      ],
      "execution_count": null,
      "outputs": [
        {
          "output_type": "stream",
          "text": [
            "Mounted at /content/drive\n"
          ],
          "name": "stdout"
        }
      ]
    },
    {
      "cell_type": "code",
      "metadata": {
        "id": "ZoXk44eTzriV"
      },
      "source": [
        "path = '/content/drive/MyDrive/Colab Notebooks/Capstone 1/dat/'\n",
        "df_deliveries = pd.read_csv(path + 'deliveries.csv')\n",
        "df_players = pd.read_excel(path + 'Players.xlsx')\n",
        "df_teams = pd.read_csv(path + 'teams.csv')\n",
        "df_matches = pd.read_csv(path + 'matches.csv')"
      ],
      "execution_count": null,
      "outputs": []
    },
    {
      "cell_type": "code",
      "metadata": {
        "colab": {
          "base_uri": "https://localhost:8080/",
          "height": 394
        },
        "id": "IMdUWJWDz2G_",
        "outputId": "e2aa819e-65d2-4a27-fd83-82854bf90392"
      },
      "source": [
        "# Analyzing the data which is present in deliveries dataframe\n",
        "df_deliveries.head()"
      ],
      "execution_count": null,
      "outputs": [
        {
          "output_type": "execute_result",
          "data": {
            "text/html": [
              "<div>\n",
              "<style scoped>\n",
              "    .dataframe tbody tr th:only-of-type {\n",
              "        vertical-align: middle;\n",
              "    }\n",
              "\n",
              "    .dataframe tbody tr th {\n",
              "        vertical-align: top;\n",
              "    }\n",
              "\n",
              "    .dataframe thead th {\n",
              "        text-align: right;\n",
              "    }\n",
              "</style>\n",
              "<table border=\"1\" class=\"dataframe\">\n",
              "  <thead>\n",
              "    <tr style=\"text-align: right;\">\n",
              "      <th></th>\n",
              "      <th>match_id</th>\n",
              "      <th>inning</th>\n",
              "      <th>batting_team</th>\n",
              "      <th>bowling_team</th>\n",
              "      <th>over</th>\n",
              "      <th>ball</th>\n",
              "      <th>batsman</th>\n",
              "      <th>non_striker</th>\n",
              "      <th>bowler</th>\n",
              "      <th>is_super_over</th>\n",
              "      <th>wide_runs</th>\n",
              "      <th>bye_runs</th>\n",
              "      <th>legbye_runs</th>\n",
              "      <th>noball_runs</th>\n",
              "      <th>penalty_runs</th>\n",
              "      <th>batsman_runs</th>\n",
              "      <th>extra_runs</th>\n",
              "      <th>total_runs</th>\n",
              "      <th>player_dismissed</th>\n",
              "      <th>dismissal_kind</th>\n",
              "      <th>fielder</th>\n",
              "    </tr>\n",
              "  </thead>\n",
              "  <tbody>\n",
              "    <tr>\n",
              "      <th>0</th>\n",
              "      <td>1</td>\n",
              "      <td>1</td>\n",
              "      <td>Sunrisers Hyderabad</td>\n",
              "      <td>Royal Challengers Bangalore</td>\n",
              "      <td>1</td>\n",
              "      <td>1</td>\n",
              "      <td>DA Warner</td>\n",
              "      <td>S Dhawan</td>\n",
              "      <td>TS Mills</td>\n",
              "      <td>0</td>\n",
              "      <td>0</td>\n",
              "      <td>0</td>\n",
              "      <td>0</td>\n",
              "      <td>0</td>\n",
              "      <td>0</td>\n",
              "      <td>0</td>\n",
              "      <td>0</td>\n",
              "      <td>0</td>\n",
              "      <td>NaN</td>\n",
              "      <td>NaN</td>\n",
              "      <td>NaN</td>\n",
              "    </tr>\n",
              "    <tr>\n",
              "      <th>1</th>\n",
              "      <td>1</td>\n",
              "      <td>1</td>\n",
              "      <td>Sunrisers Hyderabad</td>\n",
              "      <td>Royal Challengers Bangalore</td>\n",
              "      <td>1</td>\n",
              "      <td>2</td>\n",
              "      <td>DA Warner</td>\n",
              "      <td>S Dhawan</td>\n",
              "      <td>TS Mills</td>\n",
              "      <td>0</td>\n",
              "      <td>0</td>\n",
              "      <td>0</td>\n",
              "      <td>0</td>\n",
              "      <td>0</td>\n",
              "      <td>0</td>\n",
              "      <td>0</td>\n",
              "      <td>0</td>\n",
              "      <td>0</td>\n",
              "      <td>NaN</td>\n",
              "      <td>NaN</td>\n",
              "      <td>NaN</td>\n",
              "    </tr>\n",
              "    <tr>\n",
              "      <th>2</th>\n",
              "      <td>1</td>\n",
              "      <td>1</td>\n",
              "      <td>Sunrisers Hyderabad</td>\n",
              "      <td>Royal Challengers Bangalore</td>\n",
              "      <td>1</td>\n",
              "      <td>3</td>\n",
              "      <td>DA Warner</td>\n",
              "      <td>S Dhawan</td>\n",
              "      <td>TS Mills</td>\n",
              "      <td>0</td>\n",
              "      <td>0</td>\n",
              "      <td>0</td>\n",
              "      <td>0</td>\n",
              "      <td>0</td>\n",
              "      <td>0</td>\n",
              "      <td>4</td>\n",
              "      <td>0</td>\n",
              "      <td>4</td>\n",
              "      <td>NaN</td>\n",
              "      <td>NaN</td>\n",
              "      <td>NaN</td>\n",
              "    </tr>\n",
              "    <tr>\n",
              "      <th>3</th>\n",
              "      <td>1</td>\n",
              "      <td>1</td>\n",
              "      <td>Sunrisers Hyderabad</td>\n",
              "      <td>Royal Challengers Bangalore</td>\n",
              "      <td>1</td>\n",
              "      <td>4</td>\n",
              "      <td>DA Warner</td>\n",
              "      <td>S Dhawan</td>\n",
              "      <td>TS Mills</td>\n",
              "      <td>0</td>\n",
              "      <td>0</td>\n",
              "      <td>0</td>\n",
              "      <td>0</td>\n",
              "      <td>0</td>\n",
              "      <td>0</td>\n",
              "      <td>0</td>\n",
              "      <td>0</td>\n",
              "      <td>0</td>\n",
              "      <td>NaN</td>\n",
              "      <td>NaN</td>\n",
              "      <td>NaN</td>\n",
              "    </tr>\n",
              "    <tr>\n",
              "      <th>4</th>\n",
              "      <td>1</td>\n",
              "      <td>1</td>\n",
              "      <td>Sunrisers Hyderabad</td>\n",
              "      <td>Royal Challengers Bangalore</td>\n",
              "      <td>1</td>\n",
              "      <td>5</td>\n",
              "      <td>DA Warner</td>\n",
              "      <td>S Dhawan</td>\n",
              "      <td>TS Mills</td>\n",
              "      <td>0</td>\n",
              "      <td>2</td>\n",
              "      <td>0</td>\n",
              "      <td>0</td>\n",
              "      <td>0</td>\n",
              "      <td>0</td>\n",
              "      <td>0</td>\n",
              "      <td>2</td>\n",
              "      <td>2</td>\n",
              "      <td>NaN</td>\n",
              "      <td>NaN</td>\n",
              "      <td>NaN</td>\n",
              "    </tr>\n",
              "  </tbody>\n",
              "</table>\n",
              "</div>"
            ],
            "text/plain": [
              "   match_id  inning  ... dismissal_kind fielder\n",
              "0         1       1  ...            NaN     NaN\n",
              "1         1       1  ...            NaN     NaN\n",
              "2         1       1  ...            NaN     NaN\n",
              "3         1       1  ...            NaN     NaN\n",
              "4         1       1  ...            NaN     NaN\n",
              "\n",
              "[5 rows x 21 columns]"
            ]
          },
          "metadata": {
            "tags": []
          },
          "execution_count": 4
        }
      ]
    },
    {
      "cell_type": "code",
      "metadata": {
        "colab": {
          "base_uri": "https://localhost:8080/"
        },
        "id": "bJ-gTaso0V8-",
        "outputId": "0a55d058-e782-47fe-ed72-dd1049946200"
      },
      "source": [
        "# Finding out the columns associated with the df\n",
        "df_deliveries.columns.values"
      ],
      "execution_count": null,
      "outputs": [
        {
          "output_type": "execute_result",
          "data": {
            "text/plain": [
              "array(['match_id', 'inning', 'batting_team', 'bowling_team', 'over',\n",
              "       'ball', 'batsman', 'non_striker', 'bowler', 'is_super_over',\n",
              "       'wide_runs', 'bye_runs', 'legbye_runs', 'noball_runs',\n",
              "       'penalty_runs', 'batsman_runs', 'extra_runs', 'total_runs',\n",
              "       'player_dismissed', 'dismissal_kind', 'fielder'], dtype=object)"
            ]
          },
          "metadata": {
            "tags": []
          },
          "execution_count": 5
        }
      ]
    },
    {
      "cell_type": "code",
      "metadata": {
        "colab": {
          "base_uri": "https://localhost:8080/"
        },
        "id": "VBJ3R47F0zj9",
        "outputId": "cd512123-8e73-431b-9a00-dcef2f7d965d"
      },
      "source": [
        "# Looking at the structure of df\n",
        "df_deliveries.info()"
      ],
      "execution_count": null,
      "outputs": [
        {
          "output_type": "stream",
          "text": [
            "<class 'pandas.core.frame.DataFrame'>\n",
            "RangeIndex: 179078 entries, 0 to 179077\n",
            "Data columns (total 21 columns):\n",
            " #   Column            Non-Null Count   Dtype \n",
            "---  ------            --------------   ----- \n",
            " 0   match_id          179078 non-null  int64 \n",
            " 1   inning            179078 non-null  int64 \n",
            " 2   batting_team      179078 non-null  object\n",
            " 3   bowling_team      179078 non-null  object\n",
            " 4   over              179078 non-null  int64 \n",
            " 5   ball              179078 non-null  int64 \n",
            " 6   batsman           179078 non-null  object\n",
            " 7   non_striker       179078 non-null  object\n",
            " 8   bowler            179078 non-null  object\n",
            " 9   is_super_over     179078 non-null  int64 \n",
            " 10  wide_runs         179078 non-null  int64 \n",
            " 11  bye_runs          179078 non-null  int64 \n",
            " 12  legbye_runs       179078 non-null  int64 \n",
            " 13  noball_runs       179078 non-null  int64 \n",
            " 14  penalty_runs      179078 non-null  int64 \n",
            " 15  batsman_runs      179078 non-null  int64 \n",
            " 16  extra_runs        179078 non-null  int64 \n",
            " 17  total_runs        179078 non-null  int64 \n",
            " 18  player_dismissed  8834 non-null    object\n",
            " 19  dismissal_kind    8834 non-null    object\n",
            " 20  fielder           6448 non-null    object\n",
            "dtypes: int64(13), object(8)\n",
            "memory usage: 28.7+ MB\n"
          ],
          "name": "stdout"
        }
      ]
    },
    {
      "cell_type": "code",
      "metadata": {
        "colab": {
          "base_uri": "https://localhost:8080/"
        },
        "id": "-Zfhh4Il2OE4",
        "outputId": "be6a4874-8fb1-4cc5-ba7a-1cb20415a397"
      },
      "source": [
        "# finding the unique names of teams\n",
        "df_deliveries['bowling_team'].unique()"
      ],
      "execution_count": null,
      "outputs": [
        {
          "output_type": "execute_result",
          "data": {
            "text/plain": [
              "array(['Royal Challengers Bangalore', 'Sunrisers Hyderabad',\n",
              "       'Rising Pune Supergiants', 'Mumbai Indians',\n",
              "       'Kolkata Knight Riders', 'Gujarat Lions', 'Kings XI Punjab',\n",
              "       'Delhi Capitals', 'Chennai Super Kings', 'Rajasthan Royals',\n",
              "       'Kochi Tuskers Kerala'], dtype=object)"
            ]
          },
          "metadata": {
            "tags": []
          },
          "execution_count": 9
        }
      ]
    },
    {
      "cell_type": "code",
      "metadata": {
        "id": "vMK8LkFV06d1"
      },
      "source": [
        "# Changing the names of teams wherever they the franchisee have changed the name of their respective teams\n",
        "# Here, we have written a function for changing the name and then we will be applying this function to the columns wherever we can find old names\n",
        "def change_name(data):\n",
        "    if data=='Delhi Daredevils':\n",
        "        data='Delhi Capitals'\n",
        "    elif data=='Deccan Chargers':\n",
        "        data='Sunrisers Hyderabad'\n",
        "    elif data=='Pune Warriors' or data=='Rising Pune Supergiant':\n",
        "        data='Rising Pune Supergiants'\n",
        "    return data    "
      ],
      "execution_count": null,
      "outputs": []
    },
    {
      "cell_type": "code",
      "metadata": {
        "id": "pwyceiZh1uda"
      },
      "source": [
        "# applying the above function to the rows in deliveries and matches df\n",
        "df_deliveries['batting_team']=df_deliveries['batting_team'].apply(lambda x:change_name(x))\n",
        "df_deliveries['bowling_team']=df_deliveries['bowling_team'].apply(lambda x:change_name(x))\n",
        "df_matches['team1']=df_matches['team1'].apply(lambda x:change_name(x))\n",
        "df_matches['team2']=df_matches['team2'].apply(lambda x:change_name(x))\n",
        "df_matches['toss_winner']=df_matches['toss_winner'].apply(lambda x:change_name(x))\n",
        "df_matches['winner']=df_matches['winner'].apply(lambda x:change_name(x))"
      ],
      "execution_count": null,
      "outputs": []
    },
    {
      "cell_type": "code",
      "metadata": {
        "colab": {
          "base_uri": "https://localhost:8080/",
          "height": 204
        },
        "id": "ooxiqXtT2FNl",
        "outputId": "ea60def6-a4e1-4450-9cb4-1740d038da66"
      },
      "source": [
        "# looking at players df\n",
        "df_players.head()"
      ],
      "execution_count": null,
      "outputs": [
        {
          "output_type": "execute_result",
          "data": {
            "text/html": [
              "<div>\n",
              "<style scoped>\n",
              "    .dataframe tbody tr th:only-of-type {\n",
              "        vertical-align: middle;\n",
              "    }\n",
              "\n",
              "    .dataframe tbody tr th {\n",
              "        vertical-align: top;\n",
              "    }\n",
              "\n",
              "    .dataframe thead th {\n",
              "        text-align: right;\n",
              "    }\n",
              "</style>\n",
              "<table border=\"1\" class=\"dataframe\">\n",
              "  <thead>\n",
              "    <tr style=\"text-align: right;\">\n",
              "      <th></th>\n",
              "      <th>Player_Name</th>\n",
              "      <th>DOB</th>\n",
              "      <th>Batting_Hand</th>\n",
              "      <th>Bowling_Skill</th>\n",
              "      <th>Country</th>\n",
              "    </tr>\n",
              "  </thead>\n",
              "  <tbody>\n",
              "    <tr>\n",
              "      <th>0</th>\n",
              "      <td>A Ashish Reddy</td>\n",
              "      <td>1991-02-24</td>\n",
              "      <td>Right_Hand</td>\n",
              "      <td>Right-arm medium</td>\n",
              "      <td>India</td>\n",
              "    </tr>\n",
              "    <tr>\n",
              "      <th>1</th>\n",
              "      <td>A Chandila</td>\n",
              "      <td>1983-12-05</td>\n",
              "      <td>Right_Hand</td>\n",
              "      <td>Right-arm offbreak</td>\n",
              "      <td>India</td>\n",
              "    </tr>\n",
              "    <tr>\n",
              "      <th>2</th>\n",
              "      <td>A Chopra</td>\n",
              "      <td>1977-09-19</td>\n",
              "      <td>Right_Hand</td>\n",
              "      <td>Right-arm offbreak</td>\n",
              "      <td>India</td>\n",
              "    </tr>\n",
              "    <tr>\n",
              "      <th>3</th>\n",
              "      <td>A Choudhary</td>\n",
              "      <td>NaT</td>\n",
              "      <td>Right_hand</td>\n",
              "      <td>Left-arm fast-medium</td>\n",
              "      <td>NaN</td>\n",
              "    </tr>\n",
              "    <tr>\n",
              "      <th>4</th>\n",
              "      <td>A Dananjaya</td>\n",
              "      <td>NaT</td>\n",
              "      <td>Right_Hand</td>\n",
              "      <td>Right-arm offbreak</td>\n",
              "      <td>NaN</td>\n",
              "    </tr>\n",
              "  </tbody>\n",
              "</table>\n",
              "</div>"
            ],
            "text/plain": [
              "      Player_Name        DOB Batting_Hand         Bowling_Skill Country\n",
              "0  A Ashish Reddy 1991-02-24   Right_Hand      Right-arm medium   India\n",
              "1      A Chandila 1983-12-05   Right_Hand    Right-arm offbreak   India\n",
              "2        A Chopra 1977-09-19   Right_Hand    Right-arm offbreak   India\n",
              "3     A Choudhary        NaT   Right_hand  Left-arm fast-medium     NaN\n",
              "4     A Dananjaya        NaT   Right_Hand    Right-arm offbreak     NaN"
            ]
          },
          "metadata": {
            "tags": []
          },
          "execution_count": 10
        }
      ]
    },
    {
      "cell_type": "markdown",
      "metadata": {
        "id": "m0GKuX0t5ORI"
      },
      "source": [
        "Doing some basic analysis on data"
      ]
    },
    {
      "cell_type": "markdown",
      "metadata": {
        "id": "HEz_6l_c42om"
      },
      "source": [
        "**Most 4 Hits by a batsman (Top 10)**\n",
        "\n",
        "\n",
        "\n"
      ]
    },
    {
      "cell_type": "code",
      "metadata": {
        "colab": {
          "base_uri": "https://localhost:8080/",
          "height": 497
        },
        "id": "6KVb5Zjz4qqP",
        "outputId": "b2c26507-b45f-421b-d463-9f7a59566fde"
      },
      "source": [
        "plt.figure(figsize=(12,8))\n",
        "boundries_4 = df_deliveries[df_deliveries['batsman_runs'] == 4]['batsman'].value_counts()[:10]\n",
        "sns.barplot(y=boundries_4,x=boundries_4.index,orient='v')\n",
        "plt.xlabel('Batsman')\n",
        "plt.ylabel('No. of 4s')\n",
        "plt.show()\n"
      ],
      "execution_count": null,
      "outputs": [
        {
          "output_type": "display_data",
          "data": {
            "image/png": "[encoded data removed]",
            "text/plain": [
              "<Figure size 864x576 with 1 Axes>"
            ]
          },
          "metadata": {
            "tags": [],
            "needs_background": "light"
          }
        }
      ]
    },
    {
      "cell_type": "markdown",
      "metadata": {
        "id": "N1R4G1gQ6F30"
      },
      "source": [
        "**Most 6's by Batsman (Top 10)**"
      ]
    },
    {
      "cell_type": "code",
      "metadata": {
        "colab": {
          "base_uri": "https://localhost:8080/",
          "height": 497
        },
        "id": "rv_OgXAG2p60",
        "outputId": "85ef852f-d86b-4028-d7e5-ece92073e7f9"
      },
      "source": [
        "plt.figure(figsize=(12,8))\n",
        "boundries_6 = df_deliveries[df_deliveries['batsman_runs'] == 6]['batsman'].value_counts()[:10]\n",
        "sns.barplot(y=boundries_6,x=boundries_6.index,orient='v')\n",
        "plt.xlabel('Batsman')\n",
        "plt.ylabel('No. of 6s')\n",
        "plt.show()"
      ],
      "execution_count": null,
      "outputs": [
        {
          "output_type": "display_data",
          "data": {
            "image/png": "[encoded data removed]",
            "text/plain": [
              "<Figure size 864x576 with 1 Axes>"
            ]
          },
          "metadata": {
            "tags": [],
            "needs_background": "light"
          }
        }
      ]
    },
    {
      "cell_type": "markdown",
      "metadata": {
        "id": "_DgRaRao6N2K"
      },
      "source": [
        "It can be easy seen that when it comes to 6s, Chris Gayle trumps all other players. But when it comes to 4s, Indian Batsman take lead, with Shikhar Dhawan, Raina and Gambhir leading the charge."
      ]
    },
    {
      "cell_type": "markdown",
      "metadata": {
        "id": "lfQZCoXJ6-lx"
      },
      "source": [
        "**Highest Totals by IPL teams in an Innings (Top 10)**"
      ]
    },
    {
      "cell_type": "code",
      "metadata": {
        "colab": {
          "base_uri": "https://localhost:8080/",
          "height": 359
        },
        "id": "TolHrphE69-2",
        "outputId": "a202a263-e9a9-4bed-fd19-ed000a654a52"
      },
      "source": [
        "highest_team_score = df_deliveries.groupby(['match_id','batting_team'])['total_runs'].sum().droplevel(level=0).sort_values(ascending=False)[:10]\n",
        "highest_team_score = highest_team_score.reset_index()\n",
        "highest_team_score.index = np.arange(1, len(highest_team_score) + 1)\n",
        "highest_team_score"
      ],
      "execution_count": null,
      "outputs": [
        {
          "output_type": "execute_result",
          "data": {
            "text/html": [
              "<div>\n",
              "<style scoped>\n",
              "    .dataframe tbody tr th:only-of-type {\n",
              "        vertical-align: middle;\n",
              "    }\n",
              "\n",
              "    .dataframe tbody tr th {\n",
              "        vertical-align: top;\n",
              "    }\n",
              "\n",
              "    .dataframe thead th {\n",
              "        text-align: right;\n",
              "    }\n",
              "</style>\n",
              "<table border=\"1\" class=\"dataframe\">\n",
              "  <thead>\n",
              "    <tr style=\"text-align: right;\">\n",
              "      <th></th>\n",
              "      <th>batting_team</th>\n",
              "      <th>total_runs</th>\n",
              "    </tr>\n",
              "  </thead>\n",
              "  <tbody>\n",
              "    <tr>\n",
              "      <th>1</th>\n",
              "      <td>Royal Challengers Bangalore</td>\n",
              "      <td>263</td>\n",
              "    </tr>\n",
              "    <tr>\n",
              "      <th>2</th>\n",
              "      <td>Kolkata Knight Riders</td>\n",
              "      <td>250</td>\n",
              "    </tr>\n",
              "    <tr>\n",
              "      <th>3</th>\n",
              "      <td>Royal Challengers Bangalore</td>\n",
              "      <td>248</td>\n",
              "    </tr>\n",
              "    <tr>\n",
              "      <th>4</th>\n",
              "      <td>Chennai Super Kings</td>\n",
              "      <td>246</td>\n",
              "    </tr>\n",
              "    <tr>\n",
              "      <th>5</th>\n",
              "      <td>Kolkata Knight Riders</td>\n",
              "      <td>241</td>\n",
              "    </tr>\n",
              "    <tr>\n",
              "      <th>6</th>\n",
              "      <td>Chennai Super Kings</td>\n",
              "      <td>240</td>\n",
              "    </tr>\n",
              "    <tr>\n",
              "      <th>7</th>\n",
              "      <td>Royal Challengers Bangalore</td>\n",
              "      <td>235</td>\n",
              "    </tr>\n",
              "    <tr>\n",
              "      <th>8</th>\n",
              "      <td>Sunrisers Hyderabad</td>\n",
              "      <td>233</td>\n",
              "    </tr>\n",
              "    <tr>\n",
              "      <th>9</th>\n",
              "      <td>Kings XI Punjab</td>\n",
              "      <td>232</td>\n",
              "    </tr>\n",
              "    <tr>\n",
              "      <th>10</th>\n",
              "      <td>Sunrisers Hyderabad</td>\n",
              "      <td>232</td>\n",
              "    </tr>\n",
              "  </tbody>\n",
              "</table>\n",
              "</div>"
            ],
            "text/plain": [
              "                   batting_team  total_runs\n",
              "1   Royal Challengers Bangalore         263\n",
              "2         Kolkata Knight Riders         250\n",
              "3   Royal Challengers Bangalore         248\n",
              "4           Chennai Super Kings         246\n",
              "5         Kolkata Knight Riders         241\n",
              "6           Chennai Super Kings         240\n",
              "7   Royal Challengers Bangalore         235\n",
              "8           Sunrisers Hyderabad         233\n",
              "9               Kings XI Punjab         232\n",
              "10          Sunrisers Hyderabad         232"
            ]
          },
          "metadata": {
            "tags": []
          },
          "execution_count": 15
        }
      ]
    },
    {
      "cell_type": "markdown",
      "metadata": {
        "id": "sc2ezwmb7Vke"
      },
      "source": [
        "It can be observed that RCB leads in high scores category, followed by Chennai and Sunrisers Hyderabad"
      ]
    },
    {
      "cell_type": "code",
      "metadata": {
        "colab": {
          "base_uri": "https://localhost:8080/",
          "height": 497
        },
        "id": "hymu-AP76L17",
        "outputId": "78fabbce-19d7-4c13-bbfa-09c0cc9b2cff"
      },
      "source": [
        "# looking at teams with most number innings score of 200+\n",
        "plt.figure(figsize=(18,8))\n",
        "scores = df_deliveries.groupby(['batting_team','match_id'])['total_runs'].sum()\n",
        "scores_200 = scores[scores > 200].droplevel(level=1).groupby('batting_team').count().sort_values(ascending=False)\n",
        "sns.barplot(y=scores_200,x=scores_200.index,orient='v')\n",
        "plt.xlabel('Team')\n",
        "plt.ylabel('No. of 200 + scores')\n",
        "plt.show()"
      ],
      "execution_count": null,
      "outputs": [
        {
          "output_type": "display_data",
          "data": {
            "image/png": "[encoded data removed]",
            "text/plain": [
              "<Figure size 1296x576 with 1 Axes>"
            ]
          },
          "metadata": {
            "tags": [],
            "needs_background": "light"
          }
        }
      ]
    },
    {
      "cell_type": "markdown",
      "metadata": {
        "id": "oIN9Wy2R92uz"
      },
      "source": [
        "It can be observed Royal Challengers Bangalore does PLAY BOLD and are the leaders when it comes to 200+ scores, narrowly followed by Chennai Superkings. Kochi Tuskers have never scored more than 200+ runs on an innings which is clearly evident from the above plot. However, one important point is that *Mumbai Indians*, team with most number of IPL trophies are in *fourth position when comes to 200+ scores*. This brings us to an interesting question, **is there any correlation between team winning percentage and number of times any team has scored more than 200+ score?**"
      ]
    },
    {
      "cell_type": "code",
      "metadata": {
        "colab": {
          "base_uri": "https://localhost:8080/",
          "height": 390
        },
        "id": "jYpqb-TC8z8f",
        "outputId": "d14f4aaf-ca2e-4e1c-846c-74f73b8c65c0"
      },
      "source": [
        "# now creating a new dataframe to calculate win percentage of IPL teams\n",
        "# matches played by each team\n",
        "total_team_matches = df_deliveries.groupby(['bowling_team','match_id']).count().droplevel(level=1).index.value_counts().reset_index()\n",
        "# number of times a team have won the matches\n",
        "winners_df = df_matches.winner.value_counts().reset_index()\n",
        "# merging bothe above created dataframes\n",
        "matches_winners_df = pd.merge(total_team_matches,winners_df,on='index')\n",
        "# and thus calculating the win percentage\n",
        "# win percentage\n",
        "matches_winners_df['win_percent'] = round(100* matches_winners_df['winner']/matches_winners_df['bowling_team'],2)\n",
        "matches_winners_df.rename(columns={'index':'team','bowling_team':'matches_played','winner':'matches_won'},inplace=True)\n",
        "matches_winners_df"
      ],
      "execution_count": null,
      "outputs": [
        {
          "output_type": "execute_result",
          "data": {
            "text/html": [
              "<div>\n",
              "<style scoped>\n",
              "    .dataframe tbody tr th:only-of-type {\n",
              "        vertical-align: middle;\n",
              "    }\n",
              "\n",
              "    .dataframe tbody tr th {\n",
              "        vertical-align: top;\n",
              "    }\n",
              "\n",
              "    .dataframe thead th {\n",
              "        text-align: right;\n",
              "    }\n",
              "</style>\n",
              "<table border=\"1\" class=\"dataframe\">\n",
              "  <thead>\n",
              "    <tr style=\"text-align: right;\">\n",
              "      <th></th>\n",
              "      <th>team</th>\n",
              "      <th>matches_played</th>\n",
              "      <th>matches_won</th>\n",
              "      <th>win_percent</th>\n",
              "    </tr>\n",
              "  </thead>\n",
              "  <tbody>\n",
              "    <tr>\n",
              "      <th>0</th>\n",
              "      <td>Mumbai Indians</td>\n",
              "      <td>187</td>\n",
              "      <td>109</td>\n",
              "      <td>58.29</td>\n",
              "    </tr>\n",
              "    <tr>\n",
              "      <th>1</th>\n",
              "      <td>Sunrisers Hyderabad</td>\n",
              "      <td>183</td>\n",
              "      <td>87</td>\n",
              "      <td>47.54</td>\n",
              "    </tr>\n",
              "    <tr>\n",
              "      <th>2</th>\n",
              "      <td>Royal Challengers Bangalore</td>\n",
              "      <td>179</td>\n",
              "      <td>84</td>\n",
              "      <td>46.93</td>\n",
              "    </tr>\n",
              "    <tr>\n",
              "      <th>3</th>\n",
              "      <td>Kolkata Knight Riders</td>\n",
              "      <td>178</td>\n",
              "      <td>92</td>\n",
              "      <td>51.69</td>\n",
              "    </tr>\n",
              "    <tr>\n",
              "      <th>4</th>\n",
              "      <td>Kings XI Punjab</td>\n",
              "      <td>176</td>\n",
              "      <td>82</td>\n",
              "      <td>46.59</td>\n",
              "    </tr>\n",
              "    <tr>\n",
              "      <th>5</th>\n",
              "      <td>Delhi Capitals</td>\n",
              "      <td>176</td>\n",
              "      <td>77</td>\n",
              "      <td>43.75</td>\n",
              "    </tr>\n",
              "    <tr>\n",
              "      <th>6</th>\n",
              "      <td>Chennai Super Kings</td>\n",
              "      <td>164</td>\n",
              "      <td>100</td>\n",
              "      <td>60.98</td>\n",
              "    </tr>\n",
              "    <tr>\n",
              "      <th>7</th>\n",
              "      <td>Rajasthan Royals</td>\n",
              "      <td>147</td>\n",
              "      <td>75</td>\n",
              "      <td>51.02</td>\n",
              "    </tr>\n",
              "    <tr>\n",
              "      <th>8</th>\n",
              "      <td>Rising Pune Supergiants</td>\n",
              "      <td>76</td>\n",
              "      <td>27</td>\n",
              "      <td>35.53</td>\n",
              "    </tr>\n",
              "    <tr>\n",
              "      <th>9</th>\n",
              "      <td>Gujarat Lions</td>\n",
              "      <td>30</td>\n",
              "      <td>13</td>\n",
              "      <td>43.33</td>\n",
              "    </tr>\n",
              "    <tr>\n",
              "      <th>10</th>\n",
              "      <td>Kochi Tuskers Kerala</td>\n",
              "      <td>14</td>\n",
              "      <td>6</td>\n",
              "      <td>42.86</td>\n",
              "    </tr>\n",
              "  </tbody>\n",
              "</table>\n",
              "</div>"
            ],
            "text/plain": [
              "                           team  matches_played  matches_won  win_percent\n",
              "0                Mumbai Indians             187          109        58.29\n",
              "1           Sunrisers Hyderabad             183           87        47.54\n",
              "2   Royal Challengers Bangalore             179           84        46.93\n",
              "3         Kolkata Knight Riders             178           92        51.69\n",
              "4               Kings XI Punjab             176           82        46.59\n",
              "5                Delhi Capitals             176           77        43.75\n",
              "6           Chennai Super Kings             164          100        60.98\n",
              "7              Rajasthan Royals             147           75        51.02\n",
              "8       Rising Pune Supergiants              76           27        35.53\n",
              "9                 Gujarat Lions              30           13        43.33\n",
              "10         Kochi Tuskers Kerala              14            6        42.86"
            ]
          },
          "metadata": {
            "tags": []
          },
          "execution_count": 25
        }
      ]
    },
    {
      "cell_type": "code",
      "metadata": {
        "id": "9OvcNdw1BeKm"
      },
      "source": [
        "# now checking what is the average of teams in poweplay overs\n",
        "powerplay_df = df_deliveries[df_deliveries['over']<6].groupby(['match_id','batting_team']).sum()['total_runs'].groupby('batting_team').mean().sort_values(ascending=False).reset_index()\n",
        "# joining the matches_winners_df with powerplay_df\n",
        "matches_winners_df['avg_powerplay_score'] = matches_winners_df.team.map(powerplay_df.set_index('batting_team')['total_runs'])\n"
      ],
      "execution_count": null,
      "outputs": []
    },
    {
      "cell_type": "code",
      "metadata": {
        "id": "7I97GnLMDRLl"
      },
      "source": [
        "# also creating new dataframe that will show us number of times teams are scoring 200+ in an innings\n",
        "scores_200_df = scores_200.to_frame().reset_index()\n",
        "scores_200_df.rename(columns={'batting_team':'team','total_runs': 'No. of 200+ scores'}, inplace=True)\n",
        "team_200_powerplay_win_df = pd.merge(matches_winners_df,scores_200_df,how='left',on='team')\n",
        "team_200_powerplay_win_df['No. of 200+ scores'] = team_200_powerplay_win_df['No. of 200+ scores'].fillna(0)"
      ],
      "execution_count": null,
      "outputs": []
    },
    {
      "cell_type": "code",
      "metadata": {
        "colab": {
          "base_uri": "https://localhost:8080/",
          "height": 390
        },
        "id": "_pajV8ugEAv9",
        "outputId": "5de7117a-32f2-471d-832d-0a721904bcf5"
      },
      "source": [
        "team_200_powerplay_win_df['No. of 200+ scores'] = team_200_powerplay_win_df['No. of 200+ scores'].astype(int)\n",
        "team_200_powerplay_win_df"
      ],
      "execution_count": null,
      "outputs": [
        {
          "output_type": "execute_result",
          "data": {
            "text/html": [
              "<div>\n",
              "<style scoped>\n",
              "    .dataframe tbody tr th:only-of-type {\n",
              "        vertical-align: middle;\n",
              "    }\n",
              "\n",
              "    .dataframe tbody tr th {\n",
              "        vertical-align: top;\n",
              "    }\n",
              "\n",
              "    .dataframe thead th {\n",
              "        text-align: right;\n",
              "    }\n",
              "</style>\n",
              "<table border=\"1\" class=\"dataframe\">\n",
              "  <thead>\n",
              "    <tr style=\"text-align: right;\">\n",
              "      <th></th>\n",
              "      <th>team</th>\n",
              "      <th>matches_played</th>\n",
              "      <th>matches_won</th>\n",
              "      <th>win_percent</th>\n",
              "      <th>avg_powerplay_score</th>\n",
              "      <th>No. of 200+ scores</th>\n",
              "    </tr>\n",
              "  </thead>\n",
              "  <tbody>\n",
              "    <tr>\n",
              "      <th>0</th>\n",
              "      <td>Mumbai Indians</td>\n",
              "      <td>187</td>\n",
              "      <td>109</td>\n",
              "      <td>58.29</td>\n",
              "      <td>36.818182</td>\n",
              "      <td>14</td>\n",
              "    </tr>\n",
              "    <tr>\n",
              "      <th>1</th>\n",
              "      <td>Sunrisers Hyderabad</td>\n",
              "      <td>183</td>\n",
              "      <td>87</td>\n",
              "      <td>47.54</td>\n",
              "      <td>38.868852</td>\n",
              "      <td>11</td>\n",
              "    </tr>\n",
              "    <tr>\n",
              "      <th>2</th>\n",
              "      <td>Royal Challengers Bangalore</td>\n",
              "      <td>179</td>\n",
              "      <td>84</td>\n",
              "      <td>46.93</td>\n",
              "      <td>37.355556</td>\n",
              "      <td>17</td>\n",
              "    </tr>\n",
              "    <tr>\n",
              "      <th>3</th>\n",
              "      <td>Kolkata Knight Riders</td>\n",
              "      <td>178</td>\n",
              "      <td>92</td>\n",
              "      <td>51.69</td>\n",
              "      <td>39.179775</td>\n",
              "      <td>9</td>\n",
              "    </tr>\n",
              "    <tr>\n",
              "      <th>4</th>\n",
              "      <td>Kings XI Punjab</td>\n",
              "      <td>176</td>\n",
              "      <td>82</td>\n",
              "      <td>46.59</td>\n",
              "      <td>38.392045</td>\n",
              "      <td>15</td>\n",
              "    </tr>\n",
              "    <tr>\n",
              "      <th>5</th>\n",
              "      <td>Delhi Capitals</td>\n",
              "      <td>176</td>\n",
              "      <td>77</td>\n",
              "      <td>43.75</td>\n",
              "      <td>38.954802</td>\n",
              "      <td>8</td>\n",
              "    </tr>\n",
              "    <tr>\n",
              "      <th>6</th>\n",
              "      <td>Chennai Super Kings</td>\n",
              "      <td>164</td>\n",
              "      <td>100</td>\n",
              "      <td>60.98</td>\n",
              "      <td>36.926829</td>\n",
              "      <td>16</td>\n",
              "    </tr>\n",
              "    <tr>\n",
              "      <th>7</th>\n",
              "      <td>Rajasthan Royals</td>\n",
              "      <td>147</td>\n",
              "      <td>75</td>\n",
              "      <td>51.02</td>\n",
              "      <td>37.157534</td>\n",
              "      <td>8</td>\n",
              "    </tr>\n",
              "    <tr>\n",
              "      <th>8</th>\n",
              "      <td>Rising Pune Supergiants</td>\n",
              "      <td>76</td>\n",
              "      <td>27</td>\n",
              "      <td>35.53</td>\n",
              "      <td>35.840000</td>\n",
              "      <td>0</td>\n",
              "    </tr>\n",
              "    <tr>\n",
              "      <th>9</th>\n",
              "      <td>Gujarat Lions</td>\n",
              "      <td>30</td>\n",
              "      <td>13</td>\n",
              "      <td>43.33</td>\n",
              "      <td>42.166667</td>\n",
              "      <td>1</td>\n",
              "    </tr>\n",
              "    <tr>\n",
              "      <th>10</th>\n",
              "      <td>Kochi Tuskers Kerala</td>\n",
              "      <td>14</td>\n",
              "      <td>6</td>\n",
              "      <td>42.86</td>\n",
              "      <td>38.357143</td>\n",
              "      <td>0</td>\n",
              "    </tr>\n",
              "  </tbody>\n",
              "</table>\n",
              "</div>"
            ],
            "text/plain": [
              "                           team  ...  No. of 200+ scores\n",
              "0                Mumbai Indians  ...                  14\n",
              "1           Sunrisers Hyderabad  ...                  11\n",
              "2   Royal Challengers Bangalore  ...                  17\n",
              "3         Kolkata Knight Riders  ...                   9\n",
              "4               Kings XI Punjab  ...                  15\n",
              "5                Delhi Capitals  ...                   8\n",
              "6           Chennai Super Kings  ...                  16\n",
              "7              Rajasthan Royals  ...                   8\n",
              "8       Rising Pune Supergiants  ...                   0\n",
              "9                 Gujarat Lions  ...                   1\n",
              "10         Kochi Tuskers Kerala  ...                   0\n",
              "\n",
              "[11 rows x 6 columns]"
            ]
          },
          "metadata": {
            "tags": []
          },
          "execution_count": 46
        }
      ]
    },
    {
      "cell_type": "markdown",
      "metadata": {
        "id": "s9_ZZ_Q7LRSg"
      },
      "source": [
        "**Over here we will try to find out if there is any correlation between win percentage with average powerplay score and number of times the team has scored more than 200 runs in an innings. Also, we will try to plot a graph and try to figure out what is average powerplay scores' relationship with number of times team scoring more than 200 runs**"
      ]
    },
    {
      "cell_type": "code",
      "metadata": {
        "colab": {
          "base_uri": "https://localhost:8080/",
          "height": 204
        },
        "id": "HAdlVHvuD9VR",
        "outputId": "a9d8eb5b-ab87-4cc4-9658-3a4382495aa2"
      },
      "source": [
        "corr_df = team_200_powerplay_win_df.corr()\n",
        "corr_df"
      ],
      "execution_count": null,
      "outputs": [
        {
          "output_type": "execute_result",
          "data": {
            "text/html": [
              "<div>\n",
              "<style scoped>\n",
              "    .dataframe tbody tr th:only-of-type {\n",
              "        vertical-align: middle;\n",
              "    }\n",
              "\n",
              "    .dataframe tbody tr th {\n",
              "        vertical-align: top;\n",
              "    }\n",
              "\n",
              "    .dataframe thead th {\n",
              "        text-align: right;\n",
              "    }\n",
              "</style>\n",
              "<table border=\"1\" class=\"dataframe\">\n",
              "  <thead>\n",
              "    <tr style=\"text-align: right;\">\n",
              "      <th></th>\n",
              "      <th>matches_played</th>\n",
              "      <th>matches_won</th>\n",
              "      <th>win_percent</th>\n",
              "      <th>avg_powerplay_score</th>\n",
              "      <th>No. of 200+ scores</th>\n",
              "    </tr>\n",
              "  </thead>\n",
              "  <tbody>\n",
              "    <tr>\n",
              "      <th>matches_played</th>\n",
              "      <td>1.000000</td>\n",
              "      <td>0.965434</td>\n",
              "      <td>0.564737</td>\n",
              "      <td>-0.310129</td>\n",
              "      <td>0.860723</td>\n",
              "    </tr>\n",
              "    <tr>\n",
              "      <th>matches_won</th>\n",
              "      <td>0.965434</td>\n",
              "      <td>1.000000</td>\n",
              "      <td>0.754932</td>\n",
              "      <td>-0.336426</td>\n",
              "      <td>0.891444</td>\n",
              "    </tr>\n",
              "    <tr>\n",
              "      <th>win_percent</th>\n",
              "      <td>0.564737</td>\n",
              "      <td>0.754932</td>\n",
              "      <td>1.000000</td>\n",
              "      <td>-0.188418</td>\n",
              "      <td>0.698114</td>\n",
              "    </tr>\n",
              "    <tr>\n",
              "      <th>avg_powerplay_score</th>\n",
              "      <td>-0.310129</td>\n",
              "      <td>-0.336426</td>\n",
              "      <td>-0.188418</td>\n",
              "      <td>1.000000</td>\n",
              "      <td>-0.293885</td>\n",
              "    </tr>\n",
              "    <tr>\n",
              "      <th>No. of 200+ scores</th>\n",
              "      <td>0.860723</td>\n",
              "      <td>0.891444</td>\n",
              "      <td>0.698114</td>\n",
              "      <td>-0.293885</td>\n",
              "      <td>1.000000</td>\n",
              "    </tr>\n",
              "  </tbody>\n",
              "</table>\n",
              "</div>"
            ],
            "text/plain": [
              "                     matches_played  ...  No. of 200+ scores\n",
              "matches_played             1.000000  ...            0.860723\n",
              "matches_won                0.965434  ...            0.891444\n",
              "win_percent                0.564737  ...            0.698114\n",
              "avg_powerplay_score       -0.310129  ...           -0.293885\n",
              "No. of 200+ scores         0.860723  ...            1.000000\n",
              "\n",
              "[5 rows x 5 columns]"
            ]
          },
          "metadata": {
            "tags": []
          },
          "execution_count": 48
        }
      ]
    },
    {
      "cell_type": "code",
      "metadata": {
        "colab": {
          "base_uri": "https://localhost:8080/",
          "height": 438
        },
        "id": "MuHrbcx9Mxtv",
        "outputId": "0e2e4c17-cd65-4023-d87d-71729c33dab3"
      },
      "source": [
        "# Corelation heat map\n",
        "plt.figure(figsize=(10,5))\n",
        "sns.heatmap(corr_df)"
      ],
      "execution_count": null,
      "outputs": [
        {
          "output_type": "execute_result",
          "data": {
            "text/plain": [
              "<matplotlib.axes._subplots.AxesSubplot at 0x7fc161e83e90>"
            ]
          },
          "metadata": {
            "tags": []
          },
          "execution_count": 50
        },
        {
          "output_type": "display_data",
          "data": {
            "image/png": "[encoded data removed]",
            "text/plain": [
              "<Figure size 720x360 with 2 Axes>"
            ]
          },
          "metadata": {
            "tags": [],
            "needs_background": "light"
          }
        }
      ]
    },
    {
      "cell_type": "code",
      "metadata": {
        "colab": {
          "base_uri": "https://localhost:8080/",
          "height": 335
        },
        "id": "EdWsYBgiNF5L",
        "outputId": "ba8a1f08-2db4-4786-9226-2f4ba66c5418"
      },
      "source": [
        "# creating a graph showing average powerplay score as line graph and win percentage as bars\n",
        "ax1 = sns.set_style(style=None, rc=None )\n",
        "\n",
        "fig, ax1 = plt.subplots(figsize=(24,6))\n",
        "\n",
        "sns.lineplot(data = team_200_powerplay_win_df['avg_powerplay_score'], marker='o', sort = False, ax=ax1)\n",
        "ax2 = ax1.twinx()\n",
        "\n",
        "sns.barplot(data = team_200_powerplay_win_df, x='team', y='win_percent', alpha=0.5, ax=ax2)\n",
        "plt.xlabel('teams')"
      ],
      "execution_count": null,
      "outputs": [
        {
          "output_type": "execute_result",
          "data": {
            "text/plain": [
              "Text(0.5, 0, 'teams')"
            ]
          },
          "metadata": {
            "tags": []
          },
          "execution_count": 56
        },
        {
          "output_type": "display_data",
          "data": {
            "image/png": "[encoded data removed]",
            "text/plain": [
              "<Figure size 1728x432 with 2 Axes>"
            ]
          },
          "metadata": {
            "tags": [],
            "needs_background": "light"
          }
        }
      ]
    },
    {
      "cell_type": "markdown",
      "metadata": {
        "id": "xUQlQ57vNUit"
      },
      "source": [
        "Looking at the above graph it can be concluded that teams with higher win percentage tend to have more number of times scored more than 200+ scores in an innings. However, looking at correlation between average powerplay scores and the number of times teams have scored more than 200+ runs, we can see that it is is bit negative. We may infer from this that, team have tried to played steady during the initial powerplay overs and down the line power-hitters have helped their teams to score more than 200 runs. That is why we can see that teams like to keep power hitters at their middle order and depending upon match situation they change the positions of their power-hitters. We can also obseve this fact in the plot above as Mumbai Indians and Chennai Superkings, teams with very high Win percentage have maintained low average powerplay scores."
      ]
    },
    {
      "cell_type": "markdown",
      "metadata": {
        "id": "1QY1FRQaUJ3U"
      },
      "source": [
        "**Running between the wickets**: Creating list of players who were run out most number of times depending upon the number of number of innings they have played. Here we will take percentage times a batsman got runout per innings played\n"
      ]
    },
    {
      "cell_type": "code",
      "metadata": {
        "id": "lopEOD1GUJFH"
      },
      "source": [
        "# creating a df of runouts\n",
        "run_outs_df = df_deliveries[df_deliveries['dismissal_kind']=='run out']['player_dismissed'].value_counts().reset_index()\n",
        "# creating a df for number of inning played by the batsman\n",
        "batsman_innings_df = df_deliveries.groupby(['batsman','match_id']).count().droplevel(level=1).index.value_counts()\n",
        "batsman_innings_df=batsman_innings_df.reset_index()\n",
        "runout_batsman = pd.merge(run_outs_df,batsman_innings_df,on=\"index\",how='left')\n",
        "runout_batsman.dropna(axis=0,inplace=True)\n",
        "runout_batsman.rename(columns={\"batsman\":\"innings_played\",\"player_dismissed\":\"num_of_times_runouts\",\"index\":\"batsman\"}, inplace=True)\n",
        "runout_batsman['innings_played'] = runout_batsman['innings_played'].astype(int)\n",
        "# Calculating a new column with the percentage of times batsman got runout per innings\n",
        "runout_batsman['percent_runout_per_innings'] = round(100*runout_batsman['num_of_times_runouts']/runout_batsman['innings_played'],2)\n"
      ],
      "execution_count": null,
      "outputs": []
    },
    {
      "cell_type": "code",
      "metadata": {
        "colab": {
          "base_uri": "https://localhost:8080/",
          "height": 359
        },
        "id": "uAdBC-9ISEXT",
        "outputId": "a1c4aea0-7c95-40ae-f1f9-e832c1bc846b"
      },
      "source": [
        "runout_batsman.sort_values('percent_runout_per_innings',ascending=False)[:10]"
      ],
      "execution_count": null,
      "outputs": [
        {
          "output_type": "execute_result",
          "data": {
            "text/html": [
              "<div>\n",
              "<style scoped>\n",
              "    .dataframe tbody tr th:only-of-type {\n",
              "        vertical-align: middle;\n",
              "    }\n",
              "\n",
              "    .dataframe tbody tr th {\n",
              "        vertical-align: top;\n",
              "    }\n",
              "\n",
              "    .dataframe thead th {\n",
              "        text-align: right;\n",
              "    }\n",
              "</style>\n",
              "<table border=\"1\" class=\"dataframe\">\n",
              "  <thead>\n",
              "    <tr style=\"text-align: right;\">\n",
              "      <th></th>\n",
              "      <th>batsman</th>\n",
              "      <th>num_of_times_runouts</th>\n",
              "      <th>innings_played</th>\n",
              "      <th>percent_runout_per_innings</th>\n",
              "    </tr>\n",
              "  </thead>\n",
              "  <tbody>\n",
              "    <tr>\n",
              "      <th>265</th>\n",
              "      <td>H Das</td>\n",
              "      <td>1</td>\n",
              "      <td>1</td>\n",
              "      <td>100.0</td>\n",
              "    </tr>\n",
              "    <tr>\n",
              "      <th>269</th>\n",
              "      <td>AA Noffke</td>\n",
              "      <td>1</td>\n",
              "      <td>1</td>\n",
              "      <td>100.0</td>\n",
              "    </tr>\n",
              "    <tr>\n",
              "      <th>225</th>\n",
              "      <td>VS Yeligati</td>\n",
              "      <td>1</td>\n",
              "      <td>1</td>\n",
              "      <td>100.0</td>\n",
              "    </tr>\n",
              "    <tr>\n",
              "      <th>171</th>\n",
              "      <td>J Yadav</td>\n",
              "      <td>2</td>\n",
              "      <td>2</td>\n",
              "      <td>100.0</td>\n",
              "    </tr>\n",
              "    <tr>\n",
              "      <th>177</th>\n",
              "      <td>S Tyagi</td>\n",
              "      <td>1</td>\n",
              "      <td>1</td>\n",
              "      <td>100.0</td>\n",
              "    </tr>\n",
              "    <tr>\n",
              "      <th>214</th>\n",
              "      <td>SS Shaikh</td>\n",
              "      <td>1</td>\n",
              "      <td>1</td>\n",
              "      <td>100.0</td>\n",
              "    </tr>\n",
              "    <tr>\n",
              "      <th>178</th>\n",
              "      <td>DJ Muthuswami</td>\n",
              "      <td>1</td>\n",
              "      <td>1</td>\n",
              "      <td>100.0</td>\n",
              "    </tr>\n",
              "    <tr>\n",
              "      <th>222</th>\n",
              "      <td>C Nanda</td>\n",
              "      <td>1</td>\n",
              "      <td>1</td>\n",
              "      <td>100.0</td>\n",
              "    </tr>\n",
              "    <tr>\n",
              "      <th>103</th>\n",
              "      <td>L Ronchi</td>\n",
              "      <td>3</td>\n",
              "      <td>5</td>\n",
              "      <td>60.0</td>\n",
              "    </tr>\n",
              "    <tr>\n",
              "      <th>191</th>\n",
              "      <td>SA Abbott</td>\n",
              "      <td>1</td>\n",
              "      <td>2</td>\n",
              "      <td>50.0</td>\n",
              "    </tr>\n",
              "  </tbody>\n",
              "</table>\n",
              "</div>"
            ],
            "text/plain": [
              "           batsman  ...  percent_runout_per_innings\n",
              "265          H Das  ...                       100.0\n",
              "269      AA Noffke  ...                       100.0\n",
              "225    VS Yeligati  ...                       100.0\n",
              "171        J Yadav  ...                       100.0\n",
              "177        S Tyagi  ...                       100.0\n",
              "214      SS Shaikh  ...                       100.0\n",
              "178  DJ Muthuswami  ...                       100.0\n",
              "222        C Nanda  ...                       100.0\n",
              "103       L Ronchi  ...                        60.0\n",
              "191      SA Abbott  ...                        50.0\n",
              "\n",
              "[10 rows x 4 columns]"
            ]
          },
          "metadata": {
            "tags": []
          },
          "execution_count": 58
        }
      ]
    },
    {
      "cell_type": "markdown",
      "metadata": {
        "id": "AO5E45oLYTii"
      },
      "source": [
        "Over here we can observe that for few players, runout percentage is very high but at the same time, we can also see that they have played very less number of innings; thus analysis on this won't provide us correct results. As a fact we will take only those players who have played more than 10 innings. This we will help us to provide better analysis of the players with their \"running-between-wickets\""
      ]
    },
    {
      "cell_type": "code",
      "metadata": {
        "colab": {
          "base_uri": "https://localhost:8080/",
          "height": 497
        },
        "id": "JJyi2hDnYQzm",
        "outputId": "6479ee62-0558-46ad-b53c-b8bbcbdf8c5a"
      },
      "source": [
        "runout_batsman_more_10_innings= runout_batsman[runout_batsman['innings_played']>10]\n",
        "plt.figure(figsize=(12,8))\n",
        "runout_percentage = runout_batsman_more_10_innings.sort_values('percent_runout_per_innings',ascending=False)[:10]\n",
        "sns.barplot(y=runout_percentage['percent_runout_per_innings'],x=runout_percentage['batsman'])\n",
        "plt.xlabel('Batsman')\n",
        "plt.ylabel('Percentage of runouts per innings')\n",
        "plt.show()"
      ],
      "execution_count": null,
      "outputs": [
        {
          "output_type": "display_data",
          "data": {
            "image/png": "[encoded data removed]",
            "text/plain": [
              "<Figure size 864x576 with 1 Axes>"
            ]
          },
          "metadata": {
            "tags": [],
            "needs_background": "light"
          }
        }
      ]
    },
    {
      "cell_type": "markdown",
      "metadata": {
        "id": "BwGV2YACZecD"
      },
      "source": [
        "This graph provides info about top 10 players who are prone to getting runouts. They need to work on their fitness and running between the wickets."
      ]
    },
    {
      "cell_type": "markdown",
      "metadata": {
        "id": "_KBSeotLaxG6"
      },
      "source": [
        "**Bowling Statistics**"
      ]
    },
    {
      "cell_type": "code",
      "metadata": {
        "colab": {
          "base_uri": "https://localhost:8080/",
          "height": 419
        },
        "id": "QcdluHhyZbnq",
        "outputId": "6ca8c5f9-d9f0-4c6f-9261-ba7c3d6d66d3"
      },
      "source": [
        "bowler_df = pd.DataFrame(df_deliveries['bowler'].value_counts())\n",
        "bowler_df"
      ],
      "execution_count": null,
      "outputs": [
        {
          "output_type": "execute_result",
          "data": {
            "text/html": [
              "<div>\n",
              "<style scoped>\n",
              "    .dataframe tbody tr th:only-of-type {\n",
              "        vertical-align: middle;\n",
              "    }\n",
              "\n",
              "    .dataframe tbody tr th {\n",
              "        vertical-align: top;\n",
              "    }\n",
              "\n",
              "    .dataframe thead th {\n",
              "        text-align: right;\n",
              "    }\n",
              "</style>\n",
              "<table border=\"1\" class=\"dataframe\">\n",
              "  <thead>\n",
              "    <tr style=\"text-align: right;\">\n",
              "      <th></th>\n",
              "      <th>bowler</th>\n",
              "    </tr>\n",
              "  </thead>\n",
              "  <tbody>\n",
              "    <tr>\n",
              "      <th>Harbhajan Singh</th>\n",
              "      <td>3451</td>\n",
              "    </tr>\n",
              "    <tr>\n",
              "      <th>A Mishra</th>\n",
              "      <td>3172</td>\n",
              "    </tr>\n",
              "    <tr>\n",
              "      <th>PP Chawla</th>\n",
              "      <td>3157</td>\n",
              "    </tr>\n",
              "    <tr>\n",
              "      <th>R Ashwin</th>\n",
              "      <td>3016</td>\n",
              "    </tr>\n",
              "    <tr>\n",
              "      <th>SL Malinga</th>\n",
              "      <td>2974</td>\n",
              "    </tr>\n",
              "    <tr>\n",
              "      <th>...</th>\n",
              "      <td>...</td>\n",
              "    </tr>\n",
              "    <tr>\n",
              "      <th>RS Gavaskar</th>\n",
              "      <td>6</td>\n",
              "    </tr>\n",
              "    <tr>\n",
              "      <th>C Ganapathy</th>\n",
              "      <td>6</td>\n",
              "    </tr>\n",
              "    <tr>\n",
              "      <th>SPD Smith</th>\n",
              "      <td>2</td>\n",
              "    </tr>\n",
              "    <tr>\n",
              "      <th>SN Khan</th>\n",
              "      <td>2</td>\n",
              "    </tr>\n",
              "    <tr>\n",
              "      <th>AC Gilchrist</th>\n",
              "      <td>1</td>\n",
              "    </tr>\n",
              "  </tbody>\n",
              "</table>\n",
              "<p>405 rows × 1 columns</p>\n",
              "</div>"
            ],
            "text/plain": [
              "                 bowler\n",
              "Harbhajan Singh    3451\n",
              "A Mishra           3172\n",
              "PP Chawla          3157\n",
              "R Ashwin           3016\n",
              "SL Malinga         2974\n",
              "...                 ...\n",
              "RS Gavaskar           6\n",
              "C Ganapathy           6\n",
              "SPD Smith             2\n",
              "SN Khan               2\n",
              "AC Gilchrist          1\n",
              "\n",
              "[405 rows x 1 columns]"
            ]
          },
          "metadata": {
            "tags": []
          },
          "execution_count": 60
        }
      ]
    },
    {
      "cell_type": "markdown",
      "metadata": {
        "id": "JnM-cQf4bCR5"
      },
      "source": [
        "Here we can see that there are some bowlers, who have done very less number of balls. Such as players like AC Gilchrist, who are wicket-keeper and have done balling just for mere enjoyment. Thus we will be consider only those bowlers who have bowled atleast 120 deliveries"
      ]
    },
    {
      "cell_type": "code",
      "metadata": {
        "colab": {
          "base_uri": "https://localhost:8080/",
          "height": 419
        },
        "id": "PQEiwoUEa_70",
        "outputId": "2ab335cc-c997-457d-ab72-71731096dcea"
      },
      "source": [
        "# Creating bowlers df using dict\n",
        "bowlers_dict = {}\n",
        "for bowler in df_deliveries['bowler']:\n",
        "  if bowler not in bowlers_dict.keys():\n",
        "    bowlers_dict[bowler] = 1\n",
        "  else:\n",
        "    bowlers_dict[bowler] += 1 \n",
        "bowlers_df = pd.DataFrame.from_dict(bowlers_dict, orient='index').mean(axis=1).reset_index().rename(columns={'index':'bowler',0:'num_of_deliveries'}).sort_values(by=['num_of_deliveries'], ascending=False)\n",
        "# creating new dict with bowlers who have done atleast 120 balls\n",
        "regular_bowlers_df = bowlers_df[bowlers_df['num_of_deliveries']>120]\n",
        "\n",
        "totalruns_by_bowlers_df = pd.pivot_table(df_deliveries, index=['bowler'],values=['noball_runs','wide_runs','batsman_runs','extra_runs'],aggfunc=np.sum)\n",
        "\n",
        "# doing a left join between regular bowlers df and total runs by bowlers df\n",
        "regular_bowlers = pd.merge(regular_bowlers_df, totalruns_by_bowlers_df, on ='bowler', how ='left')\n",
        "regular_bowlers\n"
      ],
      "execution_count": null,
      "outputs": [
        {
          "output_type": "execute_result",
          "data": {
            "text/html": [
              "<div>\n",
              "<style scoped>\n",
              "    .dataframe tbody tr th:only-of-type {\n",
              "        vertical-align: middle;\n",
              "    }\n",
              "\n",
              "    .dataframe tbody tr th {\n",
              "        vertical-align: top;\n",
              "    }\n",
              "\n",
              "    .dataframe thead th {\n",
              "        text-align: right;\n",
              "    }\n",
              "</style>\n",
              "<table border=\"1\" class=\"dataframe\">\n",
              "  <thead>\n",
              "    <tr style=\"text-align: right;\">\n",
              "      <th></th>\n",
              "      <th>bowler</th>\n",
              "      <th>num_of_deliveries</th>\n",
              "      <th>batsman_runs</th>\n",
              "      <th>extra_runs</th>\n",
              "      <th>noball_runs</th>\n",
              "      <th>wide_runs</th>\n",
              "    </tr>\n",
              "  </thead>\n",
              "  <tbody>\n",
              "    <tr>\n",
              "      <th>0</th>\n",
              "      <td>Harbhajan Singh</td>\n",
              "      <td>3451.0</td>\n",
              "      <td>3880</td>\n",
              "      <td>170</td>\n",
              "      <td>3</td>\n",
              "      <td>96</td>\n",
              "    </tr>\n",
              "    <tr>\n",
              "      <th>1</th>\n",
              "      <td>A Mishra</td>\n",
              "      <td>3172.0</td>\n",
              "      <td>3727</td>\n",
              "      <td>123</td>\n",
              "      <td>20</td>\n",
              "      <td>57</td>\n",
              "    </tr>\n",
              "    <tr>\n",
              "      <th>2</th>\n",
              "      <td>PP Chawla</td>\n",
              "      <td>3157.0</td>\n",
              "      <td>4022</td>\n",
              "      <td>131</td>\n",
              "      <td>1</td>\n",
              "      <td>63</td>\n",
              "    </tr>\n",
              "    <tr>\n",
              "      <th>3</th>\n",
              "      <td>R Ashwin</td>\n",
              "      <td>3016.0</td>\n",
              "      <td>3224</td>\n",
              "      <td>167</td>\n",
              "      <td>2</td>\n",
              "      <td>111</td>\n",
              "    </tr>\n",
              "    <tr>\n",
              "      <th>4</th>\n",
              "      <td>SL Malinga</td>\n",
              "      <td>2974.0</td>\n",
              "      <td>3218</td>\n",
              "      <td>293</td>\n",
              "      <td>20</td>\n",
              "      <td>152</td>\n",
              "    </tr>\n",
              "    <tr>\n",
              "      <th>...</th>\n",
              "      <td>...</td>\n",
              "      <td>...</td>\n",
              "      <td>...</td>\n",
              "      <td>...</td>\n",
              "      <td>...</td>\n",
              "      <td>...</td>\n",
              "    </tr>\n",
              "    <tr>\n",
              "      <th>236</th>\n",
              "      <td>S Ladda</td>\n",
              "      <td>141.0</td>\n",
              "      <td>221</td>\n",
              "      <td>4</td>\n",
              "      <td>1</td>\n",
              "      <td>2</td>\n",
              "    </tr>\n",
              "    <tr>\n",
              "      <th>237</th>\n",
              "      <td>V Sehwag</td>\n",
              "      <td>138.0</td>\n",
              "      <td>233</td>\n",
              "      <td>3</td>\n",
              "      <td>1</td>\n",
              "      <td>1</td>\n",
              "    </tr>\n",
              "    <tr>\n",
              "      <th>238</th>\n",
              "      <td>P Amarnath</td>\n",
              "      <td>132.0</td>\n",
              "      <td>236</td>\n",
              "      <td>5</td>\n",
              "      <td>0</td>\n",
              "      <td>0</td>\n",
              "    </tr>\n",
              "    <tr>\n",
              "      <th>239</th>\n",
              "      <td>R Shukla</td>\n",
              "      <td>130.0</td>\n",
              "      <td>198</td>\n",
              "      <td>19</td>\n",
              "      <td>3</td>\n",
              "      <td>7</td>\n",
              "    </tr>\n",
              "    <tr>\n",
              "      <th>240</th>\n",
              "      <td>JE Taylor</td>\n",
              "      <td>122.0</td>\n",
              "      <td>152</td>\n",
              "      <td>15</td>\n",
              "      <td>1</td>\n",
              "      <td>4</td>\n",
              "    </tr>\n",
              "  </tbody>\n",
              "</table>\n",
              "<p>241 rows × 6 columns</p>\n",
              "</div>"
            ],
            "text/plain": [
              "              bowler  num_of_deliveries  ...  noball_runs  wide_runs\n",
              "0    Harbhajan Singh             3451.0  ...            3         96\n",
              "1           A Mishra             3172.0  ...           20         57\n",
              "2          PP Chawla             3157.0  ...            1         63\n",
              "3           R Ashwin             3016.0  ...            2        111\n",
              "4         SL Malinga             2974.0  ...           20        152\n",
              "..               ...                ...  ...          ...        ...\n",
              "236          S Ladda              141.0  ...            1          2\n",
              "237         V Sehwag              138.0  ...            1          1\n",
              "238       P Amarnath              132.0  ...            0          0\n",
              "239         R Shukla              130.0  ...            3          7\n",
              "240        JE Taylor              122.0  ...            1          4\n",
              "\n",
              "[241 rows x 6 columns]"
            ]
          },
          "metadata": {
            "tags": []
          },
          "execution_count": 61
        }
      ]
    },
    {
      "cell_type": "code",
      "metadata": {
        "colab": {
          "base_uri": "https://localhost:8080/",
          "height": 419
        },
        "id": "-A_2ngbvg9dk",
        "outputId": "ff4bb1de-01c1-4ffb-d74d-b3bfed5ddc68"
      },
      "source": [
        "# creating a new column in regular_bowlers with the name bowler_runs as while calculating economy of bowlers, we need not include bye runs and leg-bye runs\n",
        "regular_bowlers['bowler_runs'] = regular_bowlers['batsman_runs'] + regular_bowlers['noball_runs'] + regular_bowlers['wide_runs']\n",
        "regular_bowlers\n"
      ],
      "execution_count": null,
      "outputs": [
        {
          "output_type": "execute_result",
          "data": {
            "text/html": [
              "<div>\n",
              "<style scoped>\n",
              "    .dataframe tbody tr th:only-of-type {\n",
              "        vertical-align: middle;\n",
              "    }\n",
              "\n",
              "    .dataframe tbody tr th {\n",
              "        vertical-align: top;\n",
              "    }\n",
              "\n",
              "    .dataframe thead th {\n",
              "        text-align: right;\n",
              "    }\n",
              "</style>\n",
              "<table border=\"1\" class=\"dataframe\">\n",
              "  <thead>\n",
              "    <tr style=\"text-align: right;\">\n",
              "      <th></th>\n",
              "      <th>bowler</th>\n",
              "      <th>num_of_deliveries</th>\n",
              "      <th>batsman_runs</th>\n",
              "      <th>extra_runs</th>\n",
              "      <th>noball_runs</th>\n",
              "      <th>wide_runs</th>\n",
              "      <th>bowler_runs</th>\n",
              "    </tr>\n",
              "  </thead>\n",
              "  <tbody>\n",
              "    <tr>\n",
              "      <th>0</th>\n",
              "      <td>Harbhajan Singh</td>\n",
              "      <td>3451.0</td>\n",
              "      <td>3880</td>\n",
              "      <td>170</td>\n",
              "      <td>3</td>\n",
              "      <td>96</td>\n",
              "      <td>3979</td>\n",
              "    </tr>\n",
              "    <tr>\n",
              "      <th>1</th>\n",
              "      <td>A Mishra</td>\n",
              "      <td>3172.0</td>\n",
              "      <td>3727</td>\n",
              "      <td>123</td>\n",
              "      <td>20</td>\n",
              "      <td>57</td>\n",
              "      <td>3804</td>\n",
              "    </tr>\n",
              "    <tr>\n",
              "      <th>2</th>\n",
              "      <td>PP Chawla</td>\n",
              "      <td>3157.0</td>\n",
              "      <td>4022</td>\n",
              "      <td>131</td>\n",
              "      <td>1</td>\n",
              "      <td>63</td>\n",
              "      <td>4086</td>\n",
              "    </tr>\n",
              "    <tr>\n",
              "      <th>3</th>\n",
              "      <td>R Ashwin</td>\n",
              "      <td>3016.0</td>\n",
              "      <td>3224</td>\n",
              "      <td>167</td>\n",
              "      <td>2</td>\n",
              "      <td>111</td>\n",
              "      <td>3337</td>\n",
              "    </tr>\n",
              "    <tr>\n",
              "      <th>4</th>\n",
              "      <td>SL Malinga</td>\n",
              "      <td>2974.0</td>\n",
              "      <td>3218</td>\n",
              "      <td>293</td>\n",
              "      <td>20</td>\n",
              "      <td>152</td>\n",
              "      <td>3390</td>\n",
              "    </tr>\n",
              "    <tr>\n",
              "      <th>...</th>\n",
              "      <td>...</td>\n",
              "      <td>...</td>\n",
              "      <td>...</td>\n",
              "      <td>...</td>\n",
              "      <td>...</td>\n",
              "      <td>...</td>\n",
              "      <td>...</td>\n",
              "    </tr>\n",
              "    <tr>\n",
              "      <th>236</th>\n",
              "      <td>S Ladda</td>\n",
              "      <td>141.0</td>\n",
              "      <td>221</td>\n",
              "      <td>4</td>\n",
              "      <td>1</td>\n",
              "      <td>2</td>\n",
              "      <td>224</td>\n",
              "    </tr>\n",
              "    <tr>\n",
              "      <th>237</th>\n",
              "      <td>V Sehwag</td>\n",
              "      <td>138.0</td>\n",
              "      <td>233</td>\n",
              "      <td>3</td>\n",
              "      <td>1</td>\n",
              "      <td>1</td>\n",
              "      <td>235</td>\n",
              "    </tr>\n",
              "    <tr>\n",
              "      <th>238</th>\n",
              "      <td>P Amarnath</td>\n",
              "      <td>132.0</td>\n",
              "      <td>236</td>\n",
              "      <td>5</td>\n",
              "      <td>0</td>\n",
              "      <td>0</td>\n",
              "      <td>236</td>\n",
              "    </tr>\n",
              "    <tr>\n",
              "      <th>239</th>\n",
              "      <td>R Shukla</td>\n",
              "      <td>130.0</td>\n",
              "      <td>198</td>\n",
              "      <td>19</td>\n",
              "      <td>3</td>\n",
              "      <td>7</td>\n",
              "      <td>208</td>\n",
              "    </tr>\n",
              "    <tr>\n",
              "      <th>240</th>\n",
              "      <td>JE Taylor</td>\n",
              "      <td>122.0</td>\n",
              "      <td>152</td>\n",
              "      <td>15</td>\n",
              "      <td>1</td>\n",
              "      <td>4</td>\n",
              "      <td>157</td>\n",
              "    </tr>\n",
              "  </tbody>\n",
              "</table>\n",
              "<p>241 rows × 7 columns</p>\n",
              "</div>"
            ],
            "text/plain": [
              "              bowler  num_of_deliveries  ...  wide_runs  bowler_runs\n",
              "0    Harbhajan Singh             3451.0  ...         96         3979\n",
              "1           A Mishra             3172.0  ...         57         3804\n",
              "2          PP Chawla             3157.0  ...         63         4086\n",
              "3           R Ashwin             3016.0  ...        111         3337\n",
              "4         SL Malinga             2974.0  ...        152         3390\n",
              "..               ...                ...  ...        ...          ...\n",
              "236          S Ladda              141.0  ...          2          224\n",
              "237         V Sehwag              138.0  ...          1          235\n",
              "238       P Amarnath              132.0  ...          0          236\n",
              "239         R Shukla              130.0  ...          7          208\n",
              "240        JE Taylor              122.0  ...          4          157\n",
              "\n",
              "[241 rows x 7 columns]"
            ]
          },
          "metadata": {
            "tags": []
          },
          "execution_count": 62
        }
      ]
    },
    {
      "cell_type": "markdown",
      "metadata": {
        "id": "_ul4-Iw4ig97"
      },
      "source": [
        "Now we will be adding few more columns in regular bowler df for certain analysis pertaining to regular bowler statistics"
      ]
    },
    {
      "cell_type": "code",
      "metadata": {
        "id": "t9nqHiEOidjr"
      },
      "source": [
        "# Economy Rate column\n",
        "regular_bowlers['economy'] = round(regular_bowlers['bowler_runs']/ (regular_bowlers['num_of_deliveries']//6),2)"
      ],
      "execution_count": null,
      "outputs": []
    },
    {
      "cell_type": "code",
      "metadata": {
        "id": "5OSZc91Djq2c"
      },
      "source": [
        "# fetching wickets taken by bowlers\n",
        "bowlers_wict_dict = {}\n",
        "for index, rows in df_deliveries.iterrows():\n",
        "  wicket = df_deliveries.loc[index,'dismissal_kind']\n",
        "  if (wicket not in [\"run out\",\"obstructing the feild\",\"retired hurt\",np.nan]):\n",
        "      bowler_name = df_deliveries.loc[index,'bowler']\n",
        "      if bowler_name not in bowlers_wict_dict.keys():\n",
        "        bowlers_wict_dict[bowler_name] = 1\n",
        "      else:\n",
        "        bowlers_wict_dict[bowler_name] += 1\n",
        "\n",
        "wickets_df = pd.DataFrame.from_dict(bowlers_wict_dict, orient='index').mean(axis=1).reset_index().rename(columns={'index':'bowler',0:'Wickets'}).sort_values(by=['Wickets'], ascending=False)\n",
        "\n",
        "# now doing left join between regular bowlers dataframe and wickets dataframe\n",
        "regular_bowlers = pd.merge(regular_bowlers, wickets_df, on ='bowler', how ='left')\n"
      ],
      "execution_count": null,
      "outputs": []
    },
    {
      "cell_type": "code",
      "metadata": {
        "colab": {
          "base_uri": "https://localhost:8080/",
          "height": 436
        },
        "id": "wL52nzkLkxmZ",
        "outputId": "2585d43d-163c-491f-f53e-96e32ba05742"
      },
      "source": [
        "# determining strike rate and bowling average of each bowler\n",
        "regular_bowlers['strike_rate'] = round(regular_bowlers['num_of_deliveries']/regular_bowlers['Wickets'],2)\n",
        "regular_bowlers['bowling_average'] = round(regular_bowlers['batsman_runs']/regular_bowlers['Wickets'],2)\n",
        "\n",
        "regular_bowlers[[\"num_of_deliveries\",\"Wickets\"]] = regular_bowlers[[\"num_of_deliveries\",\"Wickets\"]].astype(int)\n",
        "regular_bowlers"
      ],
      "execution_count": null,
      "outputs": [
        {
          "output_type": "execute_result",
          "data": {
            "text/html": [
              "<div>\n",
              "<style scoped>\n",
              "    .dataframe tbody tr th:only-of-type {\n",
              "        vertical-align: middle;\n",
              "    }\n",
              "\n",
              "    .dataframe tbody tr th {\n",
              "        vertical-align: top;\n",
              "    }\n",
              "\n",
              "    .dataframe thead th {\n",
              "        text-align: right;\n",
              "    }\n",
              "</style>\n",
              "<table border=\"1\" class=\"dataframe\">\n",
              "  <thead>\n",
              "    <tr style=\"text-align: right;\">\n",
              "      <th></th>\n",
              "      <th>bowler</th>\n",
              "      <th>num_of_deliveries</th>\n",
              "      <th>batsman_runs</th>\n",
              "      <th>extra_runs</th>\n",
              "      <th>noball_runs</th>\n",
              "      <th>wide_runs</th>\n",
              "      <th>bowler_runs</th>\n",
              "      <th>economy</th>\n",
              "      <th>Wickets</th>\n",
              "      <th>strike_rate</th>\n",
              "      <th>bowling_average</th>\n",
              "    </tr>\n",
              "  </thead>\n",
              "  <tbody>\n",
              "    <tr>\n",
              "      <th>0</th>\n",
              "      <td>Harbhajan Singh</td>\n",
              "      <td>3451</td>\n",
              "      <td>3880</td>\n",
              "      <td>170</td>\n",
              "      <td>3</td>\n",
              "      <td>96</td>\n",
              "      <td>3979</td>\n",
              "      <td>6.92</td>\n",
              "      <td>150</td>\n",
              "      <td>23.01</td>\n",
              "      <td>25.87</td>\n",
              "    </tr>\n",
              "    <tr>\n",
              "      <th>1</th>\n",
              "      <td>A Mishra</td>\n",
              "      <td>3172</td>\n",
              "      <td>3727</td>\n",
              "      <td>123</td>\n",
              "      <td>20</td>\n",
              "      <td>57</td>\n",
              "      <td>3804</td>\n",
              "      <td>7.20</td>\n",
              "      <td>156</td>\n",
              "      <td>20.33</td>\n",
              "      <td>23.89</td>\n",
              "    </tr>\n",
              "    <tr>\n",
              "      <th>2</th>\n",
              "      <td>PP Chawla</td>\n",
              "      <td>3157</td>\n",
              "      <td>4022</td>\n",
              "      <td>131</td>\n",
              "      <td>1</td>\n",
              "      <td>63</td>\n",
              "      <td>4086</td>\n",
              "      <td>7.77</td>\n",
              "      <td>149</td>\n",
              "      <td>21.19</td>\n",
              "      <td>26.99</td>\n",
              "    </tr>\n",
              "    <tr>\n",
              "      <th>3</th>\n",
              "      <td>R Ashwin</td>\n",
              "      <td>3016</td>\n",
              "      <td>3224</td>\n",
              "      <td>167</td>\n",
              "      <td>2</td>\n",
              "      <td>111</td>\n",
              "      <td>3337</td>\n",
              "      <td>6.65</td>\n",
              "      <td>125</td>\n",
              "      <td>24.13</td>\n",
              "      <td>25.79</td>\n",
              "    </tr>\n",
              "    <tr>\n",
              "      <th>4</th>\n",
              "      <td>SL Malinga</td>\n",
              "      <td>2974</td>\n",
              "      <td>3218</td>\n",
              "      <td>293</td>\n",
              "      <td>20</td>\n",
              "      <td>152</td>\n",
              "      <td>3390</td>\n",
              "      <td>6.85</td>\n",
              "      <td>170</td>\n",
              "      <td>17.49</td>\n",
              "      <td>18.93</td>\n",
              "    </tr>\n",
              "    <tr>\n",
              "      <th>...</th>\n",
              "      <td>...</td>\n",
              "      <td>...</td>\n",
              "      <td>...</td>\n",
              "      <td>...</td>\n",
              "      <td>...</td>\n",
              "      <td>...</td>\n",
              "      <td>...</td>\n",
              "      <td>...</td>\n",
              "      <td>...</td>\n",
              "      <td>...</td>\n",
              "      <td>...</td>\n",
              "    </tr>\n",
              "    <tr>\n",
              "      <th>236</th>\n",
              "      <td>S Ladda</td>\n",
              "      <td>141</td>\n",
              "      <td>221</td>\n",
              "      <td>4</td>\n",
              "      <td>1</td>\n",
              "      <td>2</td>\n",
              "      <td>224</td>\n",
              "      <td>9.74</td>\n",
              "      <td>5</td>\n",
              "      <td>28.20</td>\n",
              "      <td>44.20</td>\n",
              "    </tr>\n",
              "    <tr>\n",
              "      <th>237</th>\n",
              "      <td>V Sehwag</td>\n",
              "      <td>138</td>\n",
              "      <td>233</td>\n",
              "      <td>3</td>\n",
              "      <td>1</td>\n",
              "      <td>1</td>\n",
              "      <td>235</td>\n",
              "      <td>10.22</td>\n",
              "      <td>6</td>\n",
              "      <td>23.00</td>\n",
              "      <td>38.83</td>\n",
              "    </tr>\n",
              "    <tr>\n",
              "      <th>238</th>\n",
              "      <td>P Amarnath</td>\n",
              "      <td>132</td>\n",
              "      <td>236</td>\n",
              "      <td>5</td>\n",
              "      <td>0</td>\n",
              "      <td>0</td>\n",
              "      <td>236</td>\n",
              "      <td>10.73</td>\n",
              "      <td>7</td>\n",
              "      <td>18.86</td>\n",
              "      <td>33.71</td>\n",
              "    </tr>\n",
              "    <tr>\n",
              "      <th>239</th>\n",
              "      <td>R Shukla</td>\n",
              "      <td>130</td>\n",
              "      <td>198</td>\n",
              "      <td>19</td>\n",
              "      <td>3</td>\n",
              "      <td>7</td>\n",
              "      <td>208</td>\n",
              "      <td>9.90</td>\n",
              "      <td>5</td>\n",
              "      <td>26.00</td>\n",
              "      <td>39.60</td>\n",
              "    </tr>\n",
              "    <tr>\n",
              "      <th>240</th>\n",
              "      <td>JE Taylor</td>\n",
              "      <td>122</td>\n",
              "      <td>152</td>\n",
              "      <td>15</td>\n",
              "      <td>1</td>\n",
              "      <td>4</td>\n",
              "      <td>157</td>\n",
              "      <td>7.85</td>\n",
              "      <td>6</td>\n",
              "      <td>20.33</td>\n",
              "      <td>25.33</td>\n",
              "    </tr>\n",
              "  </tbody>\n",
              "</table>\n",
              "<p>241 rows × 11 columns</p>\n",
              "</div>"
            ],
            "text/plain": [
              "              bowler  num_of_deliveries  ...  strike_rate  bowling_average\n",
              "0    Harbhajan Singh               3451  ...        23.01            25.87\n",
              "1           A Mishra               3172  ...        20.33            23.89\n",
              "2          PP Chawla               3157  ...        21.19            26.99\n",
              "3           R Ashwin               3016  ...        24.13            25.79\n",
              "4         SL Malinga               2974  ...        17.49            18.93\n",
              "..               ...                ...  ...          ...              ...\n",
              "236          S Ladda                141  ...        28.20            44.20\n",
              "237         V Sehwag                138  ...        23.00            38.83\n",
              "238       P Amarnath                132  ...        18.86            33.71\n",
              "239         R Shukla                130  ...        26.00            39.60\n",
              "240        JE Taylor                122  ...        20.33            25.33\n",
              "\n",
              "[241 rows x 11 columns]"
            ]
          },
          "metadata": {
            "tags": []
          },
          "execution_count": 66
        }
      ]
    },
    {
      "cell_type": "markdown",
      "metadata": {
        "id": "U52MsapFoF3h"
      },
      "source": [
        "**Creating few graphs to fetch bowling statistics**"
      ]
    },
    {
      "cell_type": "code",
      "metadata": {
        "colab": {
          "base_uri": "https://localhost:8080/",
          "height": 497
        },
        "id": "_lxrkhxQmExc",
        "outputId": "79f8a36b-df67-4eb6-8340-a2f83a0dab85"
      },
      "source": [
        "# Most no balls bowled\n",
        "no_balls_df = regular_bowlers[[\"bowler\",\"noball_runs\"]]\n",
        "no_balls_df = no_balls_df.sort_values('noball_runs',ascending=False)[:10]\n",
        "plt.figure(figsize=(12,8))\n",
        "sns.barplot(y=no_balls_df['noball_runs'],x=no_balls_df['bowler'])\n",
        "plt.xlabel('Bowler')\n",
        "plt.ylabel('No Balls')\n",
        "plt.show()"
      ],
      "execution_count": null,
      "outputs": [
        {
          "output_type": "display_data",
          "data": {
            "image/png": "[encoded data removed]",
            "text/plain": [
              "<Figure size 864x576 with 1 Axes>"
            ]
          },
          "metadata": {
            "tags": [],
            "needs_background": "light"
          }
        }
      ]
    },
    {
      "cell_type": "code",
      "metadata": {
        "colab": {
          "base_uri": "https://localhost:8080/",
          "height": 497
        },
        "id": "-8bvevjXoVlc",
        "outputId": "5c515a9a-5e84-41b6-d6a8-aa810d4a3fb8"
      },
      "source": [
        "# most number of wide balls\n",
        "wide_balls_df = regular_bowlers[[\"bowler\",\"wide_runs\"]]\n",
        "wide_balls_df = wide_balls_df.sort_values('wide_runs',ascending=False)[:10]\n",
        "plt.figure(figsize=(12,8))\n",
        "sns.barplot(y=wide_balls_df['wide_runs'],x=wide_balls_df['bowler'])\n",
        "plt.xlabel('Bowler')\n",
        "plt.ylabel('Wide Balls')\n",
        "plt.show()"
      ],
      "execution_count": null,
      "outputs": [
        {
          "output_type": "display_data",
          "data": {
            "image/png": "[encoded data removed]",
            "text/plain": [
              "<Figure size 864x576 with 1 Axes>"
            ]
          },
          "metadata": {
            "tags": [],
            "needs_background": "light"
          }
        }
      ]
    },
    {
      "cell_type": "markdown",
      "metadata": {
        "id": "TlBWypo6pEUX"
      },
      "source": [
        "These above mentioned bowlers need to work on their bowling styles"
      ]
    },
    {
      "cell_type": "code",
      "metadata": {
        "colab": {
          "base_uri": "https://localhost:8080/",
          "height": 497
        },
        "id": "bHiZWT3Bo-DA",
        "outputId": "b6623097-e8b0-4456-ebca-b47229b9d34a"
      },
      "source": [
        "# Top 10 bowlers with best average\n",
        "bowling_average_df = regular_bowlers[[\"bowler\",\"bowling_average\"]]\n",
        "bowling_average_df = bowling_average_df.sort_values('bowling_average',ascending=True)[:10]\n",
        "plt.figure(figsize=(12,8))\n",
        "sns.barplot(y=bowling_average_df['bowling_average'],x=bowling_average_df['bowler'])\n",
        "plt.xlabel('Bowler')\n",
        "plt.ylabel('Bowling Average')\n",
        "plt.show()"
      ],
      "execution_count": null,
      "outputs": [
        {
          "output_type": "display_data",
          "data": {
            "image/png": "[encoded data removed]",
            "text/plain": [
              "<Figure size 864x576 with 1 Axes>"
            ]
          },
          "metadata": {
            "tags": [],
            "needs_background": "light"
          }
        }
      ]
    },
    {
      "cell_type": "code",
      "metadata": {
        "colab": {
          "base_uri": "https://localhost:8080/",
          "height": 497
        },
        "id": "b0TZJxFPpTeA",
        "outputId": "005f6e42-8dfb-4a4a-b9d6-d9e7d315bb8e"
      },
      "source": [
        "# Top 10 bowlers in terms of strike rate\n",
        "strike_rate_df = regular_bowlers[[\"bowler\",\"strike_rate\"]]\n",
        "strike_rate_df = strike_rate_df.sort_values('strike_rate',ascending=True)[:10]\n",
        "plt.figure(figsize=(12,8))\n",
        "sns.barplot(y=strike_rate_df['strike_rate'],x=strike_rate_df['bowler'])\n",
        "plt.xlabel('Bowler')\n",
        "plt.ylabel('Strike Rate')\n",
        "plt.show()"
      ],
      "execution_count": null,
      "outputs": [
        {
          "output_type": "display_data",
          "data": {
            "image/png": "[encoded data removed]",
            "text/plain": [
              "<Figure size 864x576 with 1 Axes>"
            ]
          },
          "metadata": {
            "tags": [],
            "needs_background": "light"
          }
        }
      ]
    },
    {
      "cell_type": "code",
      "metadata": {
        "colab": {
          "base_uri": "https://localhost:8080/",
          "height": 328
        },
        "id": "btRnCcVXpf6U",
        "outputId": "e48fd811-a76b-4d22-d4aa-2762acc82670"
      },
      "source": [
        "# Players with best bowling averages and strike rates\n",
        "df3=pd.merge(bowling_average_df,strike_rate_df, how='inner')\n",
        "df3"
      ],
      "execution_count": null,
      "outputs": [
        {
          "output_type": "execute_result",
          "data": {
            "text/html": [
              "<div>\n",
              "<style scoped>\n",
              "    .dataframe tbody tr th:only-of-type {\n",
              "        vertical-align: middle;\n",
              "    }\n",
              "\n",
              "    .dataframe tbody tr th {\n",
              "        vertical-align: top;\n",
              "    }\n",
              "\n",
              "    .dataframe thead th {\n",
              "        text-align: right;\n",
              "    }\n",
              "</style>\n",
              "<table border=\"1\" class=\"dataframe\">\n",
              "  <thead>\n",
              "    <tr style=\"text-align: right;\">\n",
              "      <th></th>\n",
              "      <th>bowler</th>\n",
              "      <th>bowling_average</th>\n",
              "      <th>strike_rate</th>\n",
              "    </tr>\n",
              "  </thead>\n",
              "  <tbody>\n",
              "    <tr>\n",
              "      <th>0</th>\n",
              "      <td>Sohail Tanvir</td>\n",
              "      <td>11.18</td>\n",
              "      <td>12.05</td>\n",
              "    </tr>\n",
              "    <tr>\n",
              "      <th>1</th>\n",
              "      <td>CK Langeveldt</td>\n",
              "      <td>13.69</td>\n",
              "      <td>12.69</td>\n",
              "    </tr>\n",
              "    <tr>\n",
              "      <th>2</th>\n",
              "      <td>Umar Gul</td>\n",
              "      <td>13.83</td>\n",
              "      <td>12.75</td>\n",
              "    </tr>\n",
              "    <tr>\n",
              "      <th>3</th>\n",
              "      <td>A Zampa</td>\n",
              "      <td>14.21</td>\n",
              "      <td>11.84</td>\n",
              "    </tr>\n",
              "    <tr>\n",
              "      <th>4</th>\n",
              "      <td>L Ngidi</td>\n",
              "      <td>14.73</td>\n",
              "      <td>14.82</td>\n",
              "    </tr>\n",
              "    <tr>\n",
              "      <th>5</th>\n",
              "      <td>CRD Fernando</td>\n",
              "      <td>16.41</td>\n",
              "      <td>14.65</td>\n",
              "    </tr>\n",
              "    <tr>\n",
              "      <th>6</th>\n",
              "      <td>K Ahmed</td>\n",
              "      <td>16.55</td>\n",
              "      <td>12.05</td>\n",
              "    </tr>\n",
              "    <tr>\n",
              "      <th>7</th>\n",
              "      <td>BJ Hodge</td>\n",
              "      <td>17.29</td>\n",
              "      <td>14.00</td>\n",
              "    </tr>\n",
              "    <tr>\n",
              "      <th>8</th>\n",
              "      <td>K Rabada</td>\n",
              "      <td>17.94</td>\n",
              "      <td>14.00</td>\n",
              "    </tr>\n",
              "  </tbody>\n",
              "</table>\n",
              "</div>"
            ],
            "text/plain": [
              "          bowler  bowling_average  strike_rate\n",
              "0  Sohail Tanvir            11.18        12.05\n",
              "1  CK Langeveldt            13.69        12.69\n",
              "2       Umar Gul            13.83        12.75\n",
              "3        A Zampa            14.21        11.84\n",
              "4        L Ngidi            14.73        14.82\n",
              "5   CRD Fernando            16.41        14.65\n",
              "6        K Ahmed            16.55        12.05\n",
              "7       BJ Hodge            17.29        14.00\n",
              "8       K Rabada            17.94        14.00"
            ]
          },
          "metadata": {
            "tags": []
          },
          "execution_count": 76
        }
      ]
    },
    {
      "cell_type": "code",
      "metadata": {
        "colab": {
          "base_uri": "https://localhost:8080/",
          "height": 497
        },
        "id": "ZX-qw_lWqEPf",
        "outputId": "38e92929-275f-4d92-d89f-62be5fb3effa"
      },
      "source": [
        "# Top 10 bowlers in terms of economy rate\n",
        "economy_rate_df = regular_bowlers[[\"bowler\",\"economy\"]]\n",
        "economy_rate_df = economy_rate_df.sort_values('economy',ascending=True)[:10]\n",
        "plt.figure(figsize=(12,8))\n",
        "sns.barplot(y=economy_rate_df['economy'],x=economy_rate_df['bowler'])\n",
        "plt.xlabel('Bowler')\n",
        "plt.ylabel('Economy Rate')\n",
        "plt.show()"
      ],
      "execution_count": null,
      "outputs": [
        {
          "output_type": "display_data",
          "data": {
            "image/png": "[encoded data removed]",
            "text/plain": [
              "<Figure size 864x576 with 1 Axes>"
            ]
          },
          "metadata": {
            "tags": [],
            "needs_background": "light"
          }
        }
      ]
    },
    {
      "cell_type": "code",
      "metadata": {
        "colab": {
          "base_uri": "https://localhost:8080/",
          "height": 497
        },
        "id": "YCuXjZs_qglA",
        "outputId": "08af6aa7-ede2-4525-ffd6-1d79f0c415c1"
      },
      "source": [
        "# Top 10 Wicket takers\n",
        "top_wickets_df = regular_bowlers[[\"bowler\",\"Wickets\"]]\n",
        "top_wickets_df = top_wickets_df.sort_values('Wickets',ascending=False)[:10]\n",
        "plt.figure(figsize=(12,8))\n",
        "sns.barplot(y=top_wickets_df['Wickets'],x=top_wickets_df['bowler'])\n",
        "plt.xlabel('Bowler')\n",
        "plt.ylabel('Wickets')\n",
        "plt.show()"
      ],
      "execution_count": null,
      "outputs": [
        {
          "output_type": "display_data",
          "data": {
            "image/png": "[encoded data removed]",
            "text/plain": [
              "<Figure size 864x576 with 1 Axes>"
            ]
          },
          "metadata": {
            "tags": [],
            "needs_background": "light"
          }
        }
      ]
    },
    {
      "cell_type": "code",
      "metadata": {
        "colab": {
          "base_uri": "https://localhost:8080/",
          "height": 204
        },
        "id": "U_a1od8RqvGn",
        "outputId": "8fff6118-bf3e-4b90-9291-d71fce8d7ec3"
      },
      "source": [
        "# Most number of runs conceded in an innings \n",
        "most_runs_innings_bowler = pd.pivot_table(df_deliveries, index=['bowler','match_id','inning'],values=['batsman_runs'],aggfunc=np.sum)\n",
        "most_runs_innings_bowler['batsman_runs'] = most_runs_innings_bowler['batsman_runs'].astype(int)\n",
        "most_runs_innings_bowler.sort_values(by=['batsman_runs'], ascending = False,inplace=True)\n",
        "most_runs_innings_bowler=most_runs_innings_bowler[:5].reset_index()\n",
        "most_runs_innings_bowler.index = np.arange(1, len(most_runs_innings_bowler) + 1)\n",
        "most_runs_innings_bowler"
      ],
      "execution_count": null,
      "outputs": [
        {
          "output_type": "execute_result",
          "data": {
            "text/html": [
              "<div>\n",
              "<style scoped>\n",
              "    .dataframe tbody tr th:only-of-type {\n",
              "        vertical-align: middle;\n",
              "    }\n",
              "\n",
              "    .dataframe tbody tr th {\n",
              "        vertical-align: top;\n",
              "    }\n",
              "\n",
              "    .dataframe thead th {\n",
              "        text-align: right;\n",
              "    }\n",
              "</style>\n",
              "<table border=\"1\" class=\"dataframe\">\n",
              "  <thead>\n",
              "    <tr style=\"text-align: right;\">\n",
              "      <th></th>\n",
              "      <th>bowler</th>\n",
              "      <th>match_id</th>\n",
              "      <th>inning</th>\n",
              "      <th>batsman_runs</th>\n",
              "    </tr>\n",
              "  </thead>\n",
              "  <tbody>\n",
              "    <tr>\n",
              "      <th>1</th>\n",
              "      <td>Basil Thampi</td>\n",
              "      <td>7944</td>\n",
              "      <td>1</td>\n",
              "      <td>70</td>\n",
              "    </tr>\n",
              "    <tr>\n",
              "      <th>2</th>\n",
              "      <td>M Ur Rahman</td>\n",
              "      <td>11339</td>\n",
              "      <td>1</td>\n",
              "      <td>66</td>\n",
              "    </tr>\n",
              "    <tr>\n",
              "      <th>3</th>\n",
              "      <td>UT Yadav</td>\n",
              "      <td>438</td>\n",
              "      <td>1</td>\n",
              "      <td>64</td>\n",
              "    </tr>\n",
              "    <tr>\n",
              "      <th>4</th>\n",
              "      <td>I Sharma</td>\n",
              "      <td>435</td>\n",
              "      <td>1</td>\n",
              "      <td>63</td>\n",
              "    </tr>\n",
              "    <tr>\n",
              "      <th>5</th>\n",
              "      <td>TG Southee</td>\n",
              "      <td>11153</td>\n",
              "      <td>2</td>\n",
              "      <td>62</td>\n",
              "    </tr>\n",
              "  </tbody>\n",
              "</table>\n",
              "</div>"
            ],
            "text/plain": [
              "         bowler  match_id  inning  batsman_runs\n",
              "1  Basil Thampi      7944       1            70\n",
              "2   M Ur Rahman     11339       1            66\n",
              "3      UT Yadav       438       1            64\n",
              "4      I Sharma       435       1            63\n",
              "5    TG Southee     11153       2            62"
            ]
          },
          "metadata": {
            "tags": []
          },
          "execution_count": 106
        }
      ]
    },
    {
      "cell_type": "markdown",
      "metadata": {
        "id": "yCtPQoC07MRW"
      },
      "source": [
        "**We can also try to find out the effect of extras on match's performance by a IPL team**"
      ]
    },
    {
      "cell_type": "code",
      "metadata": {
        "colab": {
          "base_uri": "https://localhost:8080/",
          "height": 390
        },
        "id": "J1GeFK6Fsfry",
        "outputId": "6751c195-92f6-4263-f9c3-e54ab67e10ae"
      },
      "source": [
        "# Most runs given in extras\n",
        "extras = df_deliveries.groupby(['batting_team'])['extra_runs'].agg('sum').sort_values(ascending=False)\n",
        "extras_df = extras.to_frame().reset_index().rename(columns={'batting_team':'team'})\n",
        "extras_df\n",
        "# Now creating a new dataframe \n",
        "matches_extra_df = pd.merge(matches_winners_df,extras_df,how='left',on='team')\n",
        "matches_extra_df.drop('avg_powerplay_score',axis=1,inplace=True)\n",
        "matches_extra_df"
      ],
      "execution_count": null,
      "outputs": [
        {
          "output_type": "execute_result",
          "data": {
            "text/html": [
              "<div>\n",
              "<style scoped>\n",
              "    .dataframe tbody tr th:only-of-type {\n",
              "        vertical-align: middle;\n",
              "    }\n",
              "\n",
              "    .dataframe tbody tr th {\n",
              "        vertical-align: top;\n",
              "    }\n",
              "\n",
              "    .dataframe thead th {\n",
              "        text-align: right;\n",
              "    }\n",
              "</style>\n",
              "<table border=\"1\" class=\"dataframe\">\n",
              "  <thead>\n",
              "    <tr style=\"text-align: right;\">\n",
              "      <th></th>\n",
              "      <th>team</th>\n",
              "      <th>matches_played</th>\n",
              "      <th>matches_won</th>\n",
              "      <th>win_percent</th>\n",
              "      <th>extra_runs</th>\n",
              "    </tr>\n",
              "  </thead>\n",
              "  <tbody>\n",
              "    <tr>\n",
              "      <th>0</th>\n",
              "      <td>Mumbai Indians</td>\n",
              "      <td>187</td>\n",
              "      <td>109</td>\n",
              "      <td>58.29</td>\n",
              "      <td>1645</td>\n",
              "    </tr>\n",
              "    <tr>\n",
              "      <th>1</th>\n",
              "      <td>Sunrisers Hyderabad</td>\n",
              "      <td>183</td>\n",
              "      <td>87</td>\n",
              "      <td>47.54</td>\n",
              "      <td>1387</td>\n",
              "    </tr>\n",
              "    <tr>\n",
              "      <th>2</th>\n",
              "      <td>Royal Challengers Bangalore</td>\n",
              "      <td>179</td>\n",
              "      <td>84</td>\n",
              "      <td>46.93</td>\n",
              "      <td>1351</td>\n",
              "    </tr>\n",
              "    <tr>\n",
              "      <th>3</th>\n",
              "      <td>Kolkata Knight Riders</td>\n",
              "      <td>178</td>\n",
              "      <td>92</td>\n",
              "      <td>51.69</td>\n",
              "      <td>1524</td>\n",
              "    </tr>\n",
              "    <tr>\n",
              "      <th>4</th>\n",
              "      <td>Kings XI Punjab</td>\n",
              "      <td>176</td>\n",
              "      <td>82</td>\n",
              "      <td>46.59</td>\n",
              "      <td>1425</td>\n",
              "    </tr>\n",
              "    <tr>\n",
              "      <th>5</th>\n",
              "      <td>Delhi Capitals</td>\n",
              "      <td>176</td>\n",
              "      <td>77</td>\n",
              "      <td>43.75</td>\n",
              "      <td>1373</td>\n",
              "    </tr>\n",
              "    <tr>\n",
              "      <th>6</th>\n",
              "      <td>Chennai Super Kings</td>\n",
              "      <td>164</td>\n",
              "      <td>100</td>\n",
              "      <td>60.98</td>\n",
              "      <td>1314</td>\n",
              "    </tr>\n",
              "    <tr>\n",
              "      <th>7</th>\n",
              "      <td>Rajasthan Royals</td>\n",
              "      <td>147</td>\n",
              "      <td>75</td>\n",
              "      <td>51.02</td>\n",
              "      <td>1090</td>\n",
              "    </tr>\n",
              "    <tr>\n",
              "      <th>8</th>\n",
              "      <td>Rising Pune Supergiants</td>\n",
              "      <td>76</td>\n",
              "      <td>27</td>\n",
              "      <td>35.53</td>\n",
              "      <td>519</td>\n",
              "    </tr>\n",
              "    <tr>\n",
              "      <th>9</th>\n",
              "      <td>Gujarat Lions</td>\n",
              "      <td>30</td>\n",
              "      <td>13</td>\n",
              "      <td>43.33</td>\n",
              "      <td>233</td>\n",
              "    </tr>\n",
              "    <tr>\n",
              "      <th>10</th>\n",
              "      <td>Kochi Tuskers Kerala</td>\n",
              "      <td>14</td>\n",
              "      <td>6</td>\n",
              "      <td>42.86</td>\n",
              "      <td>143</td>\n",
              "    </tr>\n",
              "  </tbody>\n",
              "</table>\n",
              "</div>"
            ],
            "text/plain": [
              "                           team  matches_played  ...  win_percent  extra_runs\n",
              "0                Mumbai Indians             187  ...        58.29        1645\n",
              "1           Sunrisers Hyderabad             183  ...        47.54        1387\n",
              "2   Royal Challengers Bangalore             179  ...        46.93        1351\n",
              "3         Kolkata Knight Riders             178  ...        51.69        1524\n",
              "4               Kings XI Punjab             176  ...        46.59        1425\n",
              "5                Delhi Capitals             176  ...        43.75        1373\n",
              "6           Chennai Super Kings             164  ...        60.98        1314\n",
              "7              Rajasthan Royals             147  ...        51.02        1090\n",
              "8       Rising Pune Supergiants              76  ...        35.53         519\n",
              "9                 Gujarat Lions              30  ...        43.33         233\n",
              "10         Kochi Tuskers Kerala              14  ...        42.86         143\n",
              "\n",
              "[11 rows x 5 columns]"
            ]
          },
          "metadata": {
            "tags": []
          },
          "execution_count": 97
        }
      ]
    },
    {
      "cell_type": "code",
      "metadata": {
        "colab": {
          "base_uri": "https://localhost:8080/",
          "height": 390
        },
        "id": "w8hp-YPo4TTE",
        "outputId": "63c6e718-acc2-4b70-a1b9-b930e0109a62"
      },
      "source": [
        "# Now we will be creating a new column in the newly constructed dataframe corresponsing to average extra_runs given by a team per match\n",
        "matches_extra_df['extra_per_match'] = round(matches_extra_df['extra_runs']/matches_extra_df['matches_played'],2)\n",
        "matches_extra_df"
      ],
      "execution_count": null,
      "outputs": [
        {
          "output_type": "execute_result",
          "data": {
            "text/html": [
              "<div>\n",
              "<style scoped>\n",
              "    .dataframe tbody tr th:only-of-type {\n",
              "        vertical-align: middle;\n",
              "    }\n",
              "\n",
              "    .dataframe tbody tr th {\n",
              "        vertical-align: top;\n",
              "    }\n",
              "\n",
              "    .dataframe thead th {\n",
              "        text-align: right;\n",
              "    }\n",
              "</style>\n",
              "<table border=\"1\" class=\"dataframe\">\n",
              "  <thead>\n",
              "    <tr style=\"text-align: right;\">\n",
              "      <th></th>\n",
              "      <th>team</th>\n",
              "      <th>matches_played</th>\n",
              "      <th>matches_won</th>\n",
              "      <th>win_percent</th>\n",
              "      <th>extra_runs</th>\n",
              "      <th>extra_per_match</th>\n",
              "    </tr>\n",
              "  </thead>\n",
              "  <tbody>\n",
              "    <tr>\n",
              "      <th>0</th>\n",
              "      <td>Mumbai Indians</td>\n",
              "      <td>187</td>\n",
              "      <td>109</td>\n",
              "      <td>58.29</td>\n",
              "      <td>1645</td>\n",
              "      <td>8.80</td>\n",
              "    </tr>\n",
              "    <tr>\n",
              "      <th>1</th>\n",
              "      <td>Sunrisers Hyderabad</td>\n",
              "      <td>183</td>\n",
              "      <td>87</td>\n",
              "      <td>47.54</td>\n",
              "      <td>1387</td>\n",
              "      <td>7.58</td>\n",
              "    </tr>\n",
              "    <tr>\n",
              "      <th>2</th>\n",
              "      <td>Royal Challengers Bangalore</td>\n",
              "      <td>179</td>\n",
              "      <td>84</td>\n",
              "      <td>46.93</td>\n",
              "      <td>1351</td>\n",
              "      <td>7.55</td>\n",
              "    </tr>\n",
              "    <tr>\n",
              "      <th>3</th>\n",
              "      <td>Kolkata Knight Riders</td>\n",
              "      <td>178</td>\n",
              "      <td>92</td>\n",
              "      <td>51.69</td>\n",
              "      <td>1524</td>\n",
              "      <td>8.56</td>\n",
              "    </tr>\n",
              "    <tr>\n",
              "      <th>4</th>\n",
              "      <td>Kings XI Punjab</td>\n",
              "      <td>176</td>\n",
              "      <td>82</td>\n",
              "      <td>46.59</td>\n",
              "      <td>1425</td>\n",
              "      <td>8.10</td>\n",
              "    </tr>\n",
              "    <tr>\n",
              "      <th>5</th>\n",
              "      <td>Delhi Capitals</td>\n",
              "      <td>176</td>\n",
              "      <td>77</td>\n",
              "      <td>43.75</td>\n",
              "      <td>1373</td>\n",
              "      <td>7.80</td>\n",
              "    </tr>\n",
              "    <tr>\n",
              "      <th>6</th>\n",
              "      <td>Chennai Super Kings</td>\n",
              "      <td>164</td>\n",
              "      <td>100</td>\n",
              "      <td>60.98</td>\n",
              "      <td>1314</td>\n",
              "      <td>8.01</td>\n",
              "    </tr>\n",
              "    <tr>\n",
              "      <th>7</th>\n",
              "      <td>Rajasthan Royals</td>\n",
              "      <td>147</td>\n",
              "      <td>75</td>\n",
              "      <td>51.02</td>\n",
              "      <td>1090</td>\n",
              "      <td>7.41</td>\n",
              "    </tr>\n",
              "    <tr>\n",
              "      <th>8</th>\n",
              "      <td>Rising Pune Supergiants</td>\n",
              "      <td>76</td>\n",
              "      <td>27</td>\n",
              "      <td>35.53</td>\n",
              "      <td>519</td>\n",
              "      <td>6.83</td>\n",
              "    </tr>\n",
              "    <tr>\n",
              "      <th>9</th>\n",
              "      <td>Gujarat Lions</td>\n",
              "      <td>30</td>\n",
              "      <td>13</td>\n",
              "      <td>43.33</td>\n",
              "      <td>233</td>\n",
              "      <td>7.77</td>\n",
              "    </tr>\n",
              "    <tr>\n",
              "      <th>10</th>\n",
              "      <td>Kochi Tuskers Kerala</td>\n",
              "      <td>14</td>\n",
              "      <td>6</td>\n",
              "      <td>42.86</td>\n",
              "      <td>143</td>\n",
              "      <td>10.21</td>\n",
              "    </tr>\n",
              "  </tbody>\n",
              "</table>\n",
              "</div>"
            ],
            "text/plain": [
              "                           team  matches_played  ...  extra_runs  extra_per_match\n",
              "0                Mumbai Indians             187  ...        1645             8.80\n",
              "1           Sunrisers Hyderabad             183  ...        1387             7.58\n",
              "2   Royal Challengers Bangalore             179  ...        1351             7.55\n",
              "3         Kolkata Knight Riders             178  ...        1524             8.56\n",
              "4               Kings XI Punjab             176  ...        1425             8.10\n",
              "5                Delhi Capitals             176  ...        1373             7.80\n",
              "6           Chennai Super Kings             164  ...        1314             8.01\n",
              "7              Rajasthan Royals             147  ...        1090             7.41\n",
              "8       Rising Pune Supergiants              76  ...         519             6.83\n",
              "9                 Gujarat Lions              30  ...         233             7.77\n",
              "10         Kochi Tuskers Kerala              14  ...         143            10.21\n",
              "\n",
              "[11 rows x 6 columns]"
            ]
          },
          "metadata": {
            "tags": []
          },
          "execution_count": 98
        }
      ]
    },
    {
      "cell_type": "markdown",
      "metadata": {
        "id": "M8sm4gM_7aRb"
      },
      "source": [
        "From the above table, it can seen that variance between the extra runs per match given by the teams is very less except for Kochi Tuskers Kerala; thus there is no point of finding the correlation for these variable. And we can assume that there is no depending between extra runs and match outcome."
      ]
    },
    {
      "cell_type": "code",
      "metadata": {
        "colab": {
          "base_uri": "https://localhost:8080/",
          "height": 331
        },
        "id": "j5en35pX48QS",
        "outputId": "dc8c33fa-75ce-4bf4-ecbb-f2cb718797ab"
      },
      "source": [
        "# creating a graph showing extra runs and teams\n",
        "ax3 = sns.set_style(style=None, rc=None )\n",
        "\n",
        "fig, ax3 = plt.subplots(figsize=(24,6))\n",
        "\n",
        "sns.lineplot(data = matches_extra_df['extra_per_match'], marker='o', sort = False, ax=ax3)\n",
        "ax4 = ax3.twinx()\n",
        "\n",
        "sns.barplot(data = matches_extra_df, x='team', y='extra_runs', alpha=0.5, ax=ax4)\n",
        "plt.xlabel('teams')"
      ],
      "execution_count": null,
      "outputs": [
        {
          "output_type": "execute_result",
          "data": {
            "text/plain": [
              "Text(0.5, 0, 'teams')"
            ]
          },
          "metadata": {
            "tags": []
          },
          "execution_count": 99
        },
        {
          "output_type": "display_data",
          "data": {
            "image/png": "[encoded data removed]",
            "text/plain": [
              "<Figure size 1728x432 with 2 Axes>"
            ]
          },
          "metadata": {
            "tags": [],
            "needs_background": "light"
          }
        }
      ]
    },
    {
      "cell_type": "markdown",
      "metadata": {
        "id": "zSSnxwmE9AM0"
      },
      "source": [
        "**We can create a table to identify the history of a batsman getting out by any particular bowling style**"
      ]
    },
    {
      "cell_type": "code",
      "metadata": {
        "colab": {
          "base_uri": "https://localhost:8080/",
          "height": 586
        },
        "id": "kc-7R1qy8viM",
        "outputId": "42f66e14-6a23-4995-b3a9-de95a72d7321"
      },
      "source": [
        "# batsman getting out\n",
        "batsman_df = pd.DataFrame(columns = ['batsman', 'bowler', 'dismissal_kind'])\n",
        "for index, rows in df_deliveries.iterrows():\n",
        "  wicket = df_deliveries.loc[index,'dismissal_kind']\n",
        "  batsman_ = df_deliveries.loc[index,'player_dismissed']\n",
        "  bowler_ = df_deliveries.loc[index,'bowler']\n",
        "  if (wicket not in [\"run out\",\"obstructing the feild\",\"retired hurt\",np.nan]):\n",
        "    # append rows to an empty DataFrame\n",
        "    batsman_df = batsman_df.append({'batsman' : batsman_, 'bowler' : bowler_, 'dismissal_kind' : wicket}, \n",
        "                ignore_index = True)\n",
        "batsman_df['dismiss_bowling_style'] = batsman_df.bowler.map(df_players.set_index('Player_Name')['Bowling_Skill'])\n",
        "batsman_weakness_df = batsman_df.groupby(['batsman','dismiss_bowling_style']).dismissal_kind.agg([len]).unstack()\n",
        "batsman_weakness_df = batsman_weakness_df.fillna(0)\n",
        "batsman_weakness_df.reset_index()\n",
        "# changing multi index columns to standard columns\n",
        "batsman_weakness_df.columns = ['Left-arm fast-medium','Right-arm medium', 'Legbreak googly', 'Left-arm fast','Right-arm offbreak','Slow left-arm orthodox','Left-arm medium-fast','Right-arm medium-fast','Right-arm fast-medium','Legbreak','Slow left-arm chinaman','Right-arm fast','Left-arm medium']\n",
        "\n",
        "# converting the values into percentage\n",
        "cols= ['Left-arm fast-medium', 'Right-arm medium', 'Legbreak googly', 'Left-arm fast','Right-arm offbreak','Slow left-arm orthodox','Left-arm medium-fast','Right-arm medium-fast','Right-arm fast-medium','Legbreak','Slow left-arm chinaman','Right-arm fast','Left-arm medium']\n",
        "batsman_weakness_df[cols] = round(batsman_weakness_df[cols].div(batsman_weakness_df[cols].sum(axis=1), axis=0).multiply(100),2)\n",
        "batsman_weakness_df"
      ],
      "execution_count": null,
      "outputs": [
        {
          "output_type": "execute_result",
          "data": {
            "text/html": [
              "<div>\n",
              "<style scoped>\n",
              "    .dataframe tbody tr th:only-of-type {\n",
              "        vertical-align: middle;\n",
              "    }\n",
              "\n",
              "    .dataframe tbody tr th {\n",
              "        vertical-align: top;\n",
              "    }\n",
              "\n",
              "    .dataframe thead th {\n",
              "        text-align: right;\n",
              "    }\n",
              "</style>\n",
              "<table border=\"1\" class=\"dataframe\">\n",
              "  <thead>\n",
              "    <tr style=\"text-align: right;\">\n",
              "      <th></th>\n",
              "      <th>Left-arm fast-medium</th>\n",
              "      <th>Right-arm medium</th>\n",
              "      <th>Legbreak googly</th>\n",
              "      <th>Left-arm fast</th>\n",
              "      <th>Right-arm offbreak</th>\n",
              "      <th>Slow left-arm orthodox</th>\n",
              "      <th>Left-arm medium-fast</th>\n",
              "      <th>Right-arm medium-fast</th>\n",
              "      <th>Right-arm fast-medium</th>\n",
              "      <th>Legbreak</th>\n",
              "      <th>Slow left-arm chinaman</th>\n",
              "      <th>Right-arm fast</th>\n",
              "      <th>Left-arm medium</th>\n",
              "    </tr>\n",
              "    <tr>\n",
              "      <th>batsman</th>\n",
              "      <th></th>\n",
              "      <th></th>\n",
              "      <th></th>\n",
              "      <th></th>\n",
              "      <th></th>\n",
              "      <th></th>\n",
              "      <th></th>\n",
              "      <th></th>\n",
              "      <th></th>\n",
              "      <th></th>\n",
              "      <th></th>\n",
              "      <th></th>\n",
              "      <th></th>\n",
              "    </tr>\n",
              "  </thead>\n",
              "  <tbody>\n",
              "    <tr>\n",
              "      <th>A Ashish Reddy</th>\n",
              "      <td>0.00</td>\n",
              "      <td>7.69</td>\n",
              "      <td>0.00</td>\n",
              "      <td>7.69</td>\n",
              "      <td>0.00</td>\n",
              "      <td>0.00</td>\n",
              "      <td>15.38</td>\n",
              "      <td>7.69</td>\n",
              "      <td>30.77</td>\n",
              "      <td>23.08</td>\n",
              "      <td>7.69</td>\n",
              "      <td>0.00</td>\n",
              "      <td>0.00</td>\n",
              "    </tr>\n",
              "    <tr>\n",
              "      <th>A Chopra</th>\n",
              "      <td>0.00</td>\n",
              "      <td>0.00</td>\n",
              "      <td>25.00</td>\n",
              "      <td>0.00</td>\n",
              "      <td>0.00</td>\n",
              "      <td>0.00</td>\n",
              "      <td>25.00</td>\n",
              "      <td>0.00</td>\n",
              "      <td>25.00</td>\n",
              "      <td>0.00</td>\n",
              "      <td>0.00</td>\n",
              "      <td>0.00</td>\n",
              "      <td>25.00</td>\n",
              "    </tr>\n",
              "    <tr>\n",
              "      <th>A Choudhary</th>\n",
              "      <td>0.00</td>\n",
              "      <td>0.00</td>\n",
              "      <td>0.00</td>\n",
              "      <td>0.00</td>\n",
              "      <td>0.00</td>\n",
              "      <td>0.00</td>\n",
              "      <td>0.00</td>\n",
              "      <td>0.00</td>\n",
              "      <td>100.00</td>\n",
              "      <td>0.00</td>\n",
              "      <td>0.00</td>\n",
              "      <td>0.00</td>\n",
              "      <td>0.00</td>\n",
              "    </tr>\n",
              "    <tr>\n",
              "      <th>A Flintoff</th>\n",
              "      <td>0.00</td>\n",
              "      <td>0.00</td>\n",
              "      <td>0.00</td>\n",
              "      <td>50.00</td>\n",
              "      <td>0.00</td>\n",
              "      <td>0.00</td>\n",
              "      <td>0.00</td>\n",
              "      <td>0.00</td>\n",
              "      <td>0.00</td>\n",
              "      <td>0.00</td>\n",
              "      <td>50.00</td>\n",
              "      <td>0.00</td>\n",
              "      <td>0.00</td>\n",
              "    </tr>\n",
              "    <tr>\n",
              "      <th>A Hales</th>\n",
              "      <td>0.00</td>\n",
              "      <td>0.00</td>\n",
              "      <td>0.00</td>\n",
              "      <td>0.00</td>\n",
              "      <td>16.67</td>\n",
              "      <td>0.00</td>\n",
              "      <td>0.00</td>\n",
              "      <td>0.00</td>\n",
              "      <td>33.33</td>\n",
              "      <td>16.67</td>\n",
              "      <td>33.33</td>\n",
              "      <td>0.00</td>\n",
              "      <td>0.00</td>\n",
              "    </tr>\n",
              "    <tr>\n",
              "      <th>...</th>\n",
              "      <td>...</td>\n",
              "      <td>...</td>\n",
              "      <td>...</td>\n",
              "      <td>...</td>\n",
              "      <td>...</td>\n",
              "      <td>...</td>\n",
              "      <td>...</td>\n",
              "      <td>...</td>\n",
              "      <td>...</td>\n",
              "      <td>...</td>\n",
              "      <td>...</td>\n",
              "      <td>...</td>\n",
              "      <td>...</td>\n",
              "    </tr>\n",
              "    <tr>\n",
              "      <th>YV Takawale</th>\n",
              "      <td>12.50</td>\n",
              "      <td>0.00</td>\n",
              "      <td>0.00</td>\n",
              "      <td>0.00</td>\n",
              "      <td>0.00</td>\n",
              "      <td>12.50</td>\n",
              "      <td>0.00</td>\n",
              "      <td>12.50</td>\n",
              "      <td>25.00</td>\n",
              "      <td>12.50</td>\n",
              "      <td>25.00</td>\n",
              "      <td>0.00</td>\n",
              "      <td>0.00</td>\n",
              "    </tr>\n",
              "    <tr>\n",
              "      <th>Yashpal Singh</th>\n",
              "      <td>0.00</td>\n",
              "      <td>0.00</td>\n",
              "      <td>0.00</td>\n",
              "      <td>0.00</td>\n",
              "      <td>25.00</td>\n",
              "      <td>25.00</td>\n",
              "      <td>0.00</td>\n",
              "      <td>0.00</td>\n",
              "      <td>0.00</td>\n",
              "      <td>50.00</td>\n",
              "      <td>0.00</td>\n",
              "      <td>0.00</td>\n",
              "      <td>0.00</td>\n",
              "    </tr>\n",
              "    <tr>\n",
              "      <th>Younis Khan</th>\n",
              "      <td>0.00</td>\n",
              "      <td>0.00</td>\n",
              "      <td>0.00</td>\n",
              "      <td>100.00</td>\n",
              "      <td>0.00</td>\n",
              "      <td>0.00</td>\n",
              "      <td>0.00</td>\n",
              "      <td>0.00</td>\n",
              "      <td>0.00</td>\n",
              "      <td>0.00</td>\n",
              "      <td>0.00</td>\n",
              "      <td>0.00</td>\n",
              "      <td>0.00</td>\n",
              "    </tr>\n",
              "    <tr>\n",
              "      <th>Yuvraj Singh</th>\n",
              "      <td>0.95</td>\n",
              "      <td>8.57</td>\n",
              "      <td>2.86</td>\n",
              "      <td>0.95</td>\n",
              "      <td>4.76</td>\n",
              "      <td>7.62</td>\n",
              "      <td>6.67</td>\n",
              "      <td>22.86</td>\n",
              "      <td>11.43</td>\n",
              "      <td>14.29</td>\n",
              "      <td>13.33</td>\n",
              "      <td>0.95</td>\n",
              "      <td>4.76</td>\n",
              "    </tr>\n",
              "    <tr>\n",
              "      <th>Z Khan</th>\n",
              "      <td>0.00</td>\n",
              "      <td>8.33</td>\n",
              "      <td>0.00</td>\n",
              "      <td>0.00</td>\n",
              "      <td>8.33</td>\n",
              "      <td>16.67</td>\n",
              "      <td>16.67</td>\n",
              "      <td>16.67</td>\n",
              "      <td>8.33</td>\n",
              "      <td>8.33</td>\n",
              "      <td>0.00</td>\n",
              "      <td>8.33</td>\n",
              "      <td>8.33</td>\n",
              "    </tr>\n",
              "  </tbody>\n",
              "</table>\n",
              "<p>471 rows × 13 columns</p>\n",
              "</div>"
            ],
            "text/plain": [
              "                Left-arm fast-medium  ...  Left-arm medium\n",
              "batsman                               ...                 \n",
              "A Ashish Reddy                  0.00  ...             0.00\n",
              "A Chopra                        0.00  ...            25.00\n",
              "A Choudhary                     0.00  ...             0.00\n",
              "A Flintoff                      0.00  ...             0.00\n",
              "A Hales                         0.00  ...             0.00\n",
              "...                              ...  ...              ...\n",
              "YV Takawale                    12.50  ...             0.00\n",
              "Yashpal Singh                   0.00  ...             0.00\n",
              "Younis Khan                     0.00  ...             0.00\n",
              "Yuvraj Singh                    0.95  ...             4.76\n",
              "Z Khan                          0.00  ...             8.33\n",
              "\n",
              "[471 rows x 13 columns]"
            ]
          },
          "metadata": {
            "tags": []
          },
          "execution_count": 100
        }
      ]
    },
    {
      "cell_type": "markdown",
      "metadata": {
        "id": "aAhJvoXPMqVd"
      },
      "source": [
        "Trying to find how a batsman got out?"
      ]
    },
    {
      "cell_type": "code",
      "metadata": {
        "colab": {
          "base_uri": "https://localhost:8080/"
        },
        "id": "4OHr2Jl2-Qt9",
        "outputId": "32b7b572-4132-48e5-fd1c-1ccfa2976706"
      },
      "source": [
        "# trying to fetch the unique values of the way in which a player can get out\n",
        "df_deliveries['dismissal_kind'].unique()"
      ],
      "execution_count": null,
      "outputs": [
        {
          "output_type": "execute_result",
          "data": {
            "text/plain": [
              "array([nan, 'caught', 'bowled', 'run out', 'lbw', 'caught and bowled',\n",
              "       'stumped', 'retired hurt', 'hit wicket', 'obstructing the field'],\n",
              "      dtype=object)"
            ]
          },
          "metadata": {
            "tags": []
          },
          "execution_count": 101
        }
      ]
    },
    {
      "cell_type": "code",
      "metadata": {
        "colab": {
          "base_uri": "https://localhost:8080/",
          "height": 419
        },
        "id": "BG9tFWkeM-j8",
        "outputId": "2858002b-e256-45c7-8a28-85edecfdff97"
      },
      "source": [
        "dismissals_df = df_deliveries.groupby(['player_dismissed','dismissal_kind'])['match_id'].count().unstack().reset_index()\n",
        "dismissals_df.fillna(0,inplace=True)\n",
        "dismissals_df[['bowled','caught','caught and bowled','hit wicket','lbw','obstructing the field','retired hurt','run out','stumped']] = dismissals_df[['bowled','caught','caught and bowled','hit wicket','lbw','obstructing the field','retired hurt','run out','stumped']].astype(int)\n",
        "# removing retired hurt column\n",
        "dismissals_df.drop('retired hurt', axis=1, inplace=True)\n",
        "dismissals_df.rename(columns={'dismissal_kind':'index'},inplace=True)\n",
        "dismissals_df"
      ],
      "execution_count": null,
      "outputs": [
        {
          "output_type": "execute_result",
          "data": {
            "text/html": [
              "<div>\n",
              "<style scoped>\n",
              "    .dataframe tbody tr th:only-of-type {\n",
              "        vertical-align: middle;\n",
              "    }\n",
              "\n",
              "    .dataframe tbody tr th {\n",
              "        vertical-align: top;\n",
              "    }\n",
              "\n",
              "    .dataframe thead th {\n",
              "        text-align: right;\n",
              "    }\n",
              "</style>\n",
              "<table border=\"1\" class=\"dataframe\">\n",
              "  <thead>\n",
              "    <tr style=\"text-align: right;\">\n",
              "      <th>dismissal_kind</th>\n",
              "      <th>player_dismissed</th>\n",
              "      <th>bowled</th>\n",
              "      <th>caught</th>\n",
              "      <th>caught and bowled</th>\n",
              "      <th>hit wicket</th>\n",
              "      <th>lbw</th>\n",
              "      <th>obstructing the field</th>\n",
              "      <th>run out</th>\n",
              "      <th>stumped</th>\n",
              "    </tr>\n",
              "  </thead>\n",
              "  <tbody>\n",
              "    <tr>\n",
              "      <th>0</th>\n",
              "      <td>A Ashish Reddy</td>\n",
              "      <td>5</td>\n",
              "      <td>8</td>\n",
              "      <td>0</td>\n",
              "      <td>0</td>\n",
              "      <td>0</td>\n",
              "      <td>0</td>\n",
              "      <td>2</td>\n",
              "      <td>0</td>\n",
              "    </tr>\n",
              "    <tr>\n",
              "      <th>1</th>\n",
              "      <td>A Chopra</td>\n",
              "      <td>0</td>\n",
              "      <td>2</td>\n",
              "      <td>0</td>\n",
              "      <td>0</td>\n",
              "      <td>1</td>\n",
              "      <td>0</td>\n",
              "      <td>2</td>\n",
              "      <td>1</td>\n",
              "    </tr>\n",
              "    <tr>\n",
              "      <th>2</th>\n",
              "      <td>A Choudhary</td>\n",
              "      <td>0</td>\n",
              "      <td>1</td>\n",
              "      <td>0</td>\n",
              "      <td>0</td>\n",
              "      <td>0</td>\n",
              "      <td>0</td>\n",
              "      <td>0</td>\n",
              "      <td>0</td>\n",
              "    </tr>\n",
              "    <tr>\n",
              "      <th>3</th>\n",
              "      <td>A Flintoff</td>\n",
              "      <td>0</td>\n",
              "      <td>1</td>\n",
              "      <td>1</td>\n",
              "      <td>0</td>\n",
              "      <td>0</td>\n",
              "      <td>0</td>\n",
              "      <td>0</td>\n",
              "      <td>0</td>\n",
              "    </tr>\n",
              "    <tr>\n",
              "      <th>4</th>\n",
              "      <td>A Hales</td>\n",
              "      <td>2</td>\n",
              "      <td>3</td>\n",
              "      <td>0</td>\n",
              "      <td>0</td>\n",
              "      <td>1</td>\n",
              "      <td>0</td>\n",
              "      <td>0</td>\n",
              "      <td>0</td>\n",
              "    </tr>\n",
              "    <tr>\n",
              "      <th>...</th>\n",
              "      <td>...</td>\n",
              "      <td>...</td>\n",
              "      <td>...</td>\n",
              "      <td>...</td>\n",
              "      <td>...</td>\n",
              "      <td>...</td>\n",
              "      <td>...</td>\n",
              "      <td>...</td>\n",
              "      <td>...</td>\n",
              "    </tr>\n",
              "    <tr>\n",
              "      <th>482</th>\n",
              "      <td>YV Takawale</td>\n",
              "      <td>2</td>\n",
              "      <td>4</td>\n",
              "      <td>0</td>\n",
              "      <td>0</td>\n",
              "      <td>2</td>\n",
              "      <td>0</td>\n",
              "      <td>0</td>\n",
              "      <td>0</td>\n",
              "    </tr>\n",
              "    <tr>\n",
              "      <th>483</th>\n",
              "      <td>Yashpal Singh</td>\n",
              "      <td>0</td>\n",
              "      <td>4</td>\n",
              "      <td>0</td>\n",
              "      <td>0</td>\n",
              "      <td>0</td>\n",
              "      <td>0</td>\n",
              "      <td>0</td>\n",
              "      <td>0</td>\n",
              "    </tr>\n",
              "    <tr>\n",
              "      <th>484</th>\n",
              "      <td>Younis Khan</td>\n",
              "      <td>1</td>\n",
              "      <td>0</td>\n",
              "      <td>0</td>\n",
              "      <td>0</td>\n",
              "      <td>0</td>\n",
              "      <td>0</td>\n",
              "      <td>0</td>\n",
              "      <td>0</td>\n",
              "    </tr>\n",
              "    <tr>\n",
              "      <th>485</th>\n",
              "      <td>Yuvraj Singh</td>\n",
              "      <td>10</td>\n",
              "      <td>84</td>\n",
              "      <td>2</td>\n",
              "      <td>1</td>\n",
              "      <td>5</td>\n",
              "      <td>0</td>\n",
              "      <td>6</td>\n",
              "      <td>3</td>\n",
              "    </tr>\n",
              "    <tr>\n",
              "      <th>486</th>\n",
              "      <td>Z Khan</td>\n",
              "      <td>5</td>\n",
              "      <td>6</td>\n",
              "      <td>1</td>\n",
              "      <td>0</td>\n",
              "      <td>0</td>\n",
              "      <td>0</td>\n",
              "      <td>2</td>\n",
              "      <td>0</td>\n",
              "    </tr>\n",
              "  </tbody>\n",
              "</table>\n",
              "<p>487 rows × 9 columns</p>\n",
              "</div>"
            ],
            "text/plain": [
              "dismissal_kind player_dismissed  bowled  ...  run out  stumped\n",
              "0                A Ashish Reddy       5  ...        2        0\n",
              "1                      A Chopra       0  ...        2        1\n",
              "2                   A Choudhary       0  ...        0        0\n",
              "3                    A Flintoff       0  ...        0        0\n",
              "4                       A Hales       2  ...        0        0\n",
              "..                          ...     ...  ...      ...      ...\n",
              "482                 YV Takawale       2  ...        0        0\n",
              "483               Yashpal Singh       0  ...        0        0\n",
              "484                 Younis Khan       1  ...        0        0\n",
              "485                Yuvraj Singh      10  ...        6        3\n",
              "486                      Z Khan       5  ...        2        0\n",
              "\n",
              "[487 rows x 9 columns]"
            ]
          },
          "metadata": {
            "tags": []
          },
          "execution_count": 109
        }
      ]
    },
    {
      "cell_type": "code",
      "metadata": {
        "colab": {
          "base_uri": "https://localhost:8080/"
        },
        "id": "V4ZYsXgQRs0O",
        "outputId": "ec692d45-de54-46b4-9b73-e3815dfd7055"
      },
      "source": [
        "dismissals_df.columns.values"
      ],
      "execution_count": null,
      "outputs": [
        {
          "output_type": "execute_result",
          "data": {
            "text/plain": [
              "array(['player_dismissed', 'bowled', 'caught', 'caught and bowled',\n",
              "       'hit wicket', 'lbw', 'obstructing the field', 'run out', 'stumped'],\n",
              "      dtype=object)"
            ]
          },
          "metadata": {
            "tags": []
          },
          "execution_count": 110
        }
      ]
    },
    {
      "cell_type": "code",
      "metadata": {
        "id": "ZVlgS119SB8i"
      },
      "source": [
        ""
      ],
      "execution_count": null,
      "outputs": []
    }
  ]
}